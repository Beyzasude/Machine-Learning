{
 "cells": [
  {
   "cell_type": "code",
   "execution_count": 1,
   "metadata": {
    "_cell_guid": "b1076dfc-b9ad-4769-8c92-a6c4dae69d19",
    "_uuid": "8f2839f25d086af736a60e9eeb907d3b93b6e0e5",
    "execution": {
     "iopub.execute_input": "2022-05-06T05:40:38.598555Z",
     "iopub.status.busy": "2022-05-06T05:40:38.598273Z",
     "iopub.status.idle": "2022-05-06T05:40:39.742827Z",
     "shell.execute_reply": "2022-05-06T05:40:39.741996Z",
     "shell.execute_reply.started": "2022-05-06T05:40:38.598523Z"
    }
   },
   "outputs": [],
   "source": [
    "import numpy as np \n",
    "import pandas as pd \n",
    "\n",
    "import matplotlib.pyplot as plt\n",
    "%matplotlib inline\n",
    "import seaborn as sns "
   ]
  },
  {
   "cell_type": "markdown",
   "metadata": {},
   "source": [
    "1) Sadece Lebron James'in şutlarını gösteren bir dataframe oluşturun."
   ]
  },
  {
   "cell_type": "code",
   "execution_count": 5,
   "metadata": {
    "execution": {
     "iopub.execute_input": "2022-05-06T05:40:42.588601Z",
     "iopub.status.busy": "2022-05-06T05:40:42.588337Z",
     "iopub.status.idle": "2022-05-06T05:40:42.733204Z",
     "shell.execute_reply": "2022-05-06T05:40:42.732327Z",
     "shell.execute_reply.started": "2022-05-06T05:40:42.588571Z"
    }
   },
   "outputs": [
    {
     "data": {
      "text/html": [
       "<div>\n",
       "<style scoped>\n",
       "    .dataframe tbody tr th:only-of-type {\n",
       "        vertical-align: middle;\n",
       "    }\n",
       "\n",
       "    .dataframe tbody tr th {\n",
       "        vertical-align: top;\n",
       "    }\n",
       "\n",
       "    .dataframe thead th {\n",
       "        text-align: right;\n",
       "    }\n",
       "</style>\n",
       "<table border=\"1\" class=\"dataframe\">\n",
       "  <thead>\n",
       "    <tr style=\"text-align: right;\">\n",
       "      <th></th>\n",
       "      <th>self previous shot</th>\n",
       "      <th>player position</th>\n",
       "      <th>home game</th>\n",
       "      <th>location x</th>\n",
       "      <th>opponent previous shot</th>\n",
       "      <th>home team</th>\n",
       "      <th>shot type</th>\n",
       "      <th>points</th>\n",
       "      <th>away team</th>\n",
       "      <th>location y</th>\n",
       "      <th>time</th>\n",
       "      <th>date</th>\n",
       "      <th>shoot player</th>\n",
       "      <th>time from last shot</th>\n",
       "      <th>quarter</th>\n",
       "      <th>current shot outcome</th>\n",
       "      <th>My_Team</th>\n",
       "      <th>HomeAway</th>\n",
       "      <th>points_gained</th>\n",
       "      <th>difference</th>\n",
       "    </tr>\n",
       "  </thead>\n",
       "  <tbody>\n",
       "    <tr>\n",
       "      <th>10</th>\n",
       "      <td>MISSED</td>\n",
       "      <td>SF</td>\n",
       "      <td>Yes</td>\n",
       "      <td>131.0</td>\n",
       "      <td>SCORED</td>\n",
       "      <td>CLE</td>\n",
       "      <td>Jump Shot</td>\n",
       "      <td>2</td>\n",
       "      <td>NYK</td>\n",
       "      <td>171.0</td>\n",
       "      <td>1:01</td>\n",
       "      <td>2016-10-25</td>\n",
       "      <td>LeBron James</td>\n",
       "      <td>27.0</td>\n",
       "      <td>1</td>\n",
       "      <td>SCORED</td>\n",
       "      <td>CLE</td>\n",
       "      <td>CLE_NYK</td>\n",
       "      <td>2.0</td>\n",
       "      <td>1.0</td>\n",
       "    </tr>\n",
       "    <tr>\n",
       "      <th>17</th>\n",
       "      <td>MISSED</td>\n",
       "      <td>SF</td>\n",
       "      <td>Yes</td>\n",
       "      <td>236.0</td>\n",
       "      <td>MISSED</td>\n",
       "      <td>CLE</td>\n",
       "      <td>Jump Shot</td>\n",
       "      <td>3</td>\n",
       "      <td>NYK</td>\n",
       "      <td>84.0</td>\n",
       "      <td>2:33</td>\n",
       "      <td>2016-10-25</td>\n",
       "      <td>LeBron James</td>\n",
       "      <td>6.0</td>\n",
       "      <td>1</td>\n",
       "      <td>MISSED</td>\n",
       "      <td>CLE</td>\n",
       "      <td>CLE_NYK</td>\n",
       "      <td>0.0</td>\n",
       "      <td>5.0</td>\n",
       "    </tr>\n",
       "    <tr>\n",
       "      <th>23</th>\n",
       "      <td>BLOCKED</td>\n",
       "      <td>SF</td>\n",
       "      <td>Yes</td>\n",
       "      <td>264.0</td>\n",
       "      <td>SCORED</td>\n",
       "      <td>CLE</td>\n",
       "      <td>Jump Shot</td>\n",
       "      <td>3</td>\n",
       "      <td>NYK</td>\n",
       "      <td>383.0</td>\n",
       "      <td>3:44</td>\n",
       "      <td>2016-10-25</td>\n",
       "      <td>LeBron James</td>\n",
       "      <td>42.0</td>\n",
       "      <td>1</td>\n",
       "      <td>MISSED</td>\n",
       "      <td>CLE</td>\n",
       "      <td>CLE_NYK</td>\n",
       "      <td>0.0</td>\n",
       "      <td>3.0</td>\n",
       "    </tr>\n",
       "    <tr>\n",
       "      <th>33</th>\n",
       "      <td>SCORED</td>\n",
       "      <td>SF</td>\n",
       "      <td>Yes</td>\n",
       "      <td>50.0</td>\n",
       "      <td>MISSED</td>\n",
       "      <td>CLE</td>\n",
       "      <td>Running Layup</td>\n",
       "      <td>2</td>\n",
       "      <td>NYK</td>\n",
       "      <td>259.0</td>\n",
       "      <td>6:04</td>\n",
       "      <td>2016-10-25</td>\n",
       "      <td>LeBron James</td>\n",
       "      <td>17.0</td>\n",
       "      <td>1</td>\n",
       "      <td>SCORED</td>\n",
       "      <td>CLE</td>\n",
       "      <td>CLE_NYK</td>\n",
       "      <td>2.0</td>\n",
       "      <td>7.0</td>\n",
       "    </tr>\n",
       "    <tr>\n",
       "      <th>44</th>\n",
       "      <td>MISSED</td>\n",
       "      <td>SF</td>\n",
       "      <td>Yes</td>\n",
       "      <td>52.0</td>\n",
       "      <td>SCORED</td>\n",
       "      <td>CLE</td>\n",
       "      <td>Putback Dunk</td>\n",
       "      <td>2</td>\n",
       "      <td>NYK</td>\n",
       "      <td>250.0</td>\n",
       "      <td>8:23</td>\n",
       "      <td>2016-10-25</td>\n",
       "      <td>LeBron James</td>\n",
       "      <td>4.0</td>\n",
       "      <td>1</td>\n",
       "      <td>SCORED</td>\n",
       "      <td>CLE</td>\n",
       "      <td>CLE_NYK</td>\n",
       "      <td>2.0</td>\n",
       "      <td>7.0</td>\n",
       "    </tr>\n",
       "    <tr>\n",
       "      <th>...</th>\n",
       "      <td>...</td>\n",
       "      <td>...</td>\n",
       "      <td>...</td>\n",
       "      <td>...</td>\n",
       "      <td>...</td>\n",
       "      <td>...</td>\n",
       "      <td>...</td>\n",
       "      <td>...</td>\n",
       "      <td>...</td>\n",
       "      <td>...</td>\n",
       "      <td>...</td>\n",
       "      <td>...</td>\n",
       "      <td>...</td>\n",
       "      <td>...</td>\n",
       "      <td>...</td>\n",
       "      <td>...</td>\n",
       "      <td>...</td>\n",
       "      <td>...</td>\n",
       "      <td>...</td>\n",
       "      <td>...</td>\n",
       "    </tr>\n",
       "    <tr>\n",
       "      <th>13159</th>\n",
       "      <td>MISSED</td>\n",
       "      <td>SF</td>\n",
       "      <td>No</td>\n",
       "      <td>51.0</td>\n",
       "      <td>SCORED</td>\n",
       "      <td>ATL</td>\n",
       "      <td>Driving Layup</td>\n",
       "      <td>2</td>\n",
       "      <td>CLE</td>\n",
       "      <td>246.0</td>\n",
       "      <td>1:16</td>\n",
       "      <td>2017-04-09</td>\n",
       "      <td>LeBron James</td>\n",
       "      <td>47.0</td>\n",
       "      <td>4</td>\n",
       "      <td>MISSED</td>\n",
       "      <td>CLE</td>\n",
       "      <td>ATL_CLE</td>\n",
       "      <td>0.0</td>\n",
       "      <td>17.0</td>\n",
       "    </tr>\n",
       "    <tr>\n",
       "      <th>13167</th>\n",
       "      <td>SCORED</td>\n",
       "      <td>SF</td>\n",
       "      <td>No</td>\n",
       "      <td>58.0</td>\n",
       "      <td>SCORED</td>\n",
       "      <td>ATL</td>\n",
       "      <td>Driving Layup</td>\n",
       "      <td>2</td>\n",
       "      <td>CLE</td>\n",
       "      <td>249.0</td>\n",
       "      <td>3:36</td>\n",
       "      <td>2017-04-09</td>\n",
       "      <td>LeBron James</td>\n",
       "      <td>58.0</td>\n",
       "      <td>4</td>\n",
       "      <td>SCORED</td>\n",
       "      <td>CLE</td>\n",
       "      <td>ATL_CLE</td>\n",
       "      <td>2.0</td>\n",
       "      <td>15.0</td>\n",
       "    </tr>\n",
       "    <tr>\n",
       "      <th>13174</th>\n",
       "      <td>SCORED</td>\n",
       "      <td>SF</td>\n",
       "      <td>No</td>\n",
       "      <td>52.0</td>\n",
       "      <td>MISSED</td>\n",
       "      <td>ATL</td>\n",
       "      <td>Driving Dunk</td>\n",
       "      <td>2</td>\n",
       "      <td>CLE</td>\n",
       "      <td>250.0</td>\n",
       "      <td>5:54</td>\n",
       "      <td>2017-04-09</td>\n",
       "      <td>LeBron James</td>\n",
       "      <td>29.0</td>\n",
       "      <td>4</td>\n",
       "      <td>SCORED</td>\n",
       "      <td>CLE</td>\n",
       "      <td>ATL_CLE</td>\n",
       "      <td>2.0</td>\n",
       "      <td>14.0</td>\n",
       "    </tr>\n",
       "    <tr>\n",
       "      <th>13182</th>\n",
       "      <td>SCORED</td>\n",
       "      <td>SF</td>\n",
       "      <td>No</td>\n",
       "      <td>77.0</td>\n",
       "      <td>SCORED</td>\n",
       "      <td>ATL</td>\n",
       "      <td>Fadeaway Jumper</td>\n",
       "      <td>2</td>\n",
       "      <td>CLE</td>\n",
       "      <td>450.0</td>\n",
       "      <td>8:54</td>\n",
       "      <td>2017-04-09</td>\n",
       "      <td>LeBron James</td>\n",
       "      <td>31.0</td>\n",
       "      <td>4</td>\n",
       "      <td>MISSED</td>\n",
       "      <td>CLE</td>\n",
       "      <td>ATL_CLE</td>\n",
       "      <td>0.0</td>\n",
       "      <td>14.0</td>\n",
       "    </tr>\n",
       "    <tr>\n",
       "      <th>13192</th>\n",
       "      <td>MISSED</td>\n",
       "      <td>SF</td>\n",
       "      <td>No</td>\n",
       "      <td>141.0</td>\n",
       "      <td>MISSED</td>\n",
       "      <td>ATL</td>\n",
       "      <td>Floating Jump Shot</td>\n",
       "      <td>2</td>\n",
       "      <td>CLE</td>\n",
       "      <td>290.0</td>\n",
       "      <td>2:08</td>\n",
       "      <td>2017-04-09</td>\n",
       "      <td>LeBron James</td>\n",
       "      <td>76.0</td>\n",
       "      <td>5</td>\n",
       "      <td>MISSED</td>\n",
       "      <td>CLE</td>\n",
       "      <td>ATL_CLE</td>\n",
       "      <td>0.0</td>\n",
       "      <td>14.0</td>\n",
       "    </tr>\n",
       "  </tbody>\n",
       "</table>\n",
       "<p>1296 rows × 20 columns</p>\n",
       "</div>"
      ],
      "text/plain": [
       "      self previous shot player position home game  location x  \\\n",
       "10                MISSED              SF       Yes       131.0   \n",
       "17                MISSED              SF       Yes       236.0   \n",
       "23               BLOCKED              SF       Yes       264.0   \n",
       "33                SCORED              SF       Yes        50.0   \n",
       "44                MISSED              SF       Yes        52.0   \n",
       "...                  ...             ...       ...         ...   \n",
       "13159             MISSED              SF        No        51.0   \n",
       "13167             SCORED              SF        No        58.0   \n",
       "13174             SCORED              SF        No        52.0   \n",
       "13182             SCORED              SF        No        77.0   \n",
       "13192             MISSED              SF        No       141.0   \n",
       "\n",
       "      opponent previous shot home team           shot type  points away team  \\\n",
       "10                    SCORED       CLE           Jump Shot       2       NYK   \n",
       "17                    MISSED       CLE           Jump Shot       3       NYK   \n",
       "23                    SCORED       CLE           Jump Shot       3       NYK   \n",
       "33                    MISSED       CLE       Running Layup       2       NYK   \n",
       "44                    SCORED       CLE        Putback Dunk       2       NYK   \n",
       "...                      ...       ...                 ...     ...       ...   \n",
       "13159                 SCORED       ATL       Driving Layup       2       CLE   \n",
       "13167                 SCORED       ATL       Driving Layup       2       CLE   \n",
       "13174                 MISSED       ATL        Driving Dunk       2       CLE   \n",
       "13182                 SCORED       ATL     Fadeaway Jumper       2       CLE   \n",
       "13192                 MISSED       ATL  Floating Jump Shot       2       CLE   \n",
       "\n",
       "       location y  time        date  shoot player  time from last shot  \\\n",
       "10          171.0  1:01  2016-10-25  LeBron James                 27.0   \n",
       "17           84.0  2:33  2016-10-25  LeBron James                  6.0   \n",
       "23          383.0  3:44  2016-10-25  LeBron James                 42.0   \n",
       "33          259.0  6:04  2016-10-25  LeBron James                 17.0   \n",
       "44          250.0  8:23  2016-10-25  LeBron James                  4.0   \n",
       "...           ...   ...         ...           ...                  ...   \n",
       "13159       246.0  1:16  2017-04-09  LeBron James                 47.0   \n",
       "13167       249.0  3:36  2017-04-09  LeBron James                 58.0   \n",
       "13174       250.0  5:54  2017-04-09  LeBron James                 29.0   \n",
       "13182       450.0  8:54  2017-04-09  LeBron James                 31.0   \n",
       "13192       290.0  2:08  2017-04-09  LeBron James                 76.0   \n",
       "\n",
       "       quarter current shot outcome My_Team HomeAway  points_gained  \\\n",
       "10           1               SCORED     CLE  CLE_NYK            2.0   \n",
       "17           1               MISSED     CLE  CLE_NYK            0.0   \n",
       "23           1               MISSED     CLE  CLE_NYK            0.0   \n",
       "33           1               SCORED     CLE  CLE_NYK            2.0   \n",
       "44           1               SCORED     CLE  CLE_NYK            2.0   \n",
       "...        ...                  ...     ...      ...            ...   \n",
       "13159        4               MISSED     CLE  ATL_CLE            0.0   \n",
       "13167        4               SCORED     CLE  ATL_CLE            2.0   \n",
       "13174        4               SCORED     CLE  ATL_CLE            2.0   \n",
       "13182        4               MISSED     CLE  ATL_CLE            0.0   \n",
       "13192        5               MISSED     CLE  ATL_CLE            0.0   \n",
       "\n",
       "       difference  \n",
       "10            1.0  \n",
       "17            5.0  \n",
       "23            3.0  \n",
       "33            7.0  \n",
       "44            7.0  \n",
       "...           ...  \n",
       "13159        17.0  \n",
       "13167        15.0  \n",
       "13174        14.0  \n",
       "13182        14.0  \n",
       "13192        14.0  \n",
       "\n",
       "[1296 rows x 20 columns]"
      ]
     },
     "execution_count": 5,
     "metadata": {},
     "output_type": "execute_result"
    }
   ],
   "source": [
    "lebron = pd.read_csv(\"train.csv\" ,index_col=0)\n",
    "lebronJames = lebron.loc[lebron[\"shoot player\"] == \"LeBron James\"] #sadece lebron james in şutlarını gösterir.\n",
    "lebronJames"
   ]
  },
  {
   "cell_type": "markdown",
   "metadata": {},
   "source": [
    "2) Verilerimizin içerisinde her sütün için kaç tane dolu veri var, percentile'ları kaç, ortalama değerleri kaç gibi değişkenleri gösteren kodu yazınız. Bütün kolonların isimlerini yazdırın."
   ]
  },
  {
   "cell_type": "code",
   "execution_count": 6,
   "metadata": {
    "execution": {
     "iopub.execute_input": "2022-05-06T05:40:55.317417Z",
     "iopub.status.busy": "2022-05-06T05:40:55.316615Z",
     "iopub.status.idle": "2022-05-06T05:40:55.356002Z",
     "shell.execute_reply": "2022-05-06T05:40:55.355370Z",
     "shell.execute_reply.started": "2022-05-06T05:40:55.317378Z"
    }
   },
   "outputs": [
    {
     "data": {
      "text/html": [
       "<div>\n",
       "<style scoped>\n",
       "    .dataframe tbody tr th:only-of-type {\n",
       "        vertical-align: middle;\n",
       "    }\n",
       "\n",
       "    .dataframe tbody tr th {\n",
       "        vertical-align: top;\n",
       "    }\n",
       "\n",
       "    .dataframe thead th {\n",
       "        text-align: right;\n",
       "    }\n",
       "</style>\n",
       "<table border=\"1\" class=\"dataframe\">\n",
       "  <thead>\n",
       "    <tr style=\"text-align: right;\">\n",
       "      <th></th>\n",
       "      <th>location x</th>\n",
       "      <th>points</th>\n",
       "      <th>location y</th>\n",
       "      <th>time from last shot</th>\n",
       "      <th>quarter</th>\n",
       "      <th>points_gained</th>\n",
       "      <th>difference</th>\n",
       "    </tr>\n",
       "  </thead>\n",
       "  <tbody>\n",
       "    <tr>\n",
       "      <th>count</th>\n",
       "      <td>13541.000000</td>\n",
       "      <td>13551.000000</td>\n",
       "      <td>13541.000000</td>\n",
       "      <td>12911.000000</td>\n",
       "      <td>13551.000000</td>\n",
       "      <td>13551.000000</td>\n",
       "      <td>13551.000000</td>\n",
       "    </tr>\n",
       "    <tr>\n",
       "      <th>mean</th>\n",
       "      <td>466.775275</td>\n",
       "      <td>2.362851</td>\n",
       "      <td>246.795436</td>\n",
       "      <td>32.890636</td>\n",
       "      <td>2.478489</td>\n",
       "      <td>1.065604</td>\n",
       "      <td>1.471847</td>\n",
       "    </tr>\n",
       "    <tr>\n",
       "      <th>std</th>\n",
       "      <td>348.506178</td>\n",
       "      <td>0.480840</td>\n",
       "      <td>121.989018</td>\n",
       "      <td>19.269357</td>\n",
       "      <td>1.148060</td>\n",
       "      <td>1.183611</td>\n",
       "      <td>11.403835</td>\n",
       "    </tr>\n",
       "    <tr>\n",
       "      <th>min</th>\n",
       "      <td>5.000000</td>\n",
       "      <td>2.000000</td>\n",
       "      <td>0.000000</td>\n",
       "      <td>0.000000</td>\n",
       "      <td>1.000000</td>\n",
       "      <td>0.000000</td>\n",
       "      <td>-45.000000</td>\n",
       "    </tr>\n",
       "    <tr>\n",
       "      <th>25%</th>\n",
       "      <td>92.000000</td>\n",
       "      <td>2.000000</td>\n",
       "      <td>172.000000</td>\n",
       "      <td>22.000000</td>\n",
       "      <td>1.000000</td>\n",
       "      <td>0.000000</td>\n",
       "      <td>-5.000000</td>\n",
       "    </tr>\n",
       "    <tr>\n",
       "      <th>50%</th>\n",
       "      <td>313.000000</td>\n",
       "      <td>2.000000</td>\n",
       "      <td>250.000000</td>\n",
       "      <td>31.000000</td>\n",
       "      <td>2.000000</td>\n",
       "      <td>0.000000</td>\n",
       "      <td>1.000000</td>\n",
       "    </tr>\n",
       "    <tr>\n",
       "      <th>75%</th>\n",
       "      <td>848.000000</td>\n",
       "      <td>3.000000</td>\n",
       "      <td>316.000000</td>\n",
       "      <td>40.000000</td>\n",
       "      <td>3.000000</td>\n",
       "      <td>2.000000</td>\n",
       "      <td>8.000000</td>\n",
       "    </tr>\n",
       "    <tr>\n",
       "      <th>max</th>\n",
       "      <td>933.000000</td>\n",
       "      <td>3.000000</td>\n",
       "      <td>500.000000</td>\n",
       "      <td>196.000000</td>\n",
       "      <td>6.000000</td>\n",
       "      <td>3.000000</td>\n",
       "      <td>34.000000</td>\n",
       "    </tr>\n",
       "  </tbody>\n",
       "</table>\n",
       "</div>"
      ],
      "text/plain": [
       "         location x        points    location y  time from last shot  \\\n",
       "count  13541.000000  13551.000000  13541.000000         12911.000000   \n",
       "mean     466.775275      2.362851    246.795436            32.890636   \n",
       "std      348.506178      0.480840    121.989018            19.269357   \n",
       "min        5.000000      2.000000      0.000000             0.000000   \n",
       "25%       92.000000      2.000000    172.000000            22.000000   \n",
       "50%      313.000000      2.000000    250.000000            31.000000   \n",
       "75%      848.000000      3.000000    316.000000            40.000000   \n",
       "max      933.000000      3.000000    500.000000           196.000000   \n",
       "\n",
       "            quarter  points_gained    difference  \n",
       "count  13551.000000   13551.000000  13551.000000  \n",
       "mean       2.478489       1.065604      1.471847  \n",
       "std        1.148060       1.183611     11.403835  \n",
       "min        1.000000       0.000000    -45.000000  \n",
       "25%        1.000000       0.000000     -5.000000  \n",
       "50%        2.000000       0.000000      1.000000  \n",
       "75%        3.000000       2.000000      8.000000  \n",
       "max        6.000000       3.000000     34.000000  "
      ]
     },
     "execution_count": 6,
     "metadata": {},
     "output_type": "execute_result"
    }
   ],
   "source": [
    "lebron.describe() #describe fonksiyonu gerekli mean min max gibi değerlerin hepsini basar."
   ]
  },
  {
   "cell_type": "markdown",
   "metadata": {},
   "source": [
    "3) Sonrasında açılan notebook'tan verileri okutun. İlk 5 entry'sini yazdırın. Gözünüze çarpan şeyleri comment olarak ekleyin."
   ]
  },
  {
   "cell_type": "code",
   "execution_count": 8,
   "metadata": {
    "execution": {
     "iopub.execute_input": "2022-05-06T05:40:58.329884Z",
     "iopub.status.busy": "2022-05-06T05:40:58.329338Z",
     "iopub.status.idle": "2022-05-06T05:40:58.402886Z",
     "shell.execute_reply": "2022-05-06T05:40:58.401965Z",
     "shell.execute_reply.started": "2022-05-06T05:40:58.329833Z"
    }
   },
   "outputs": [
    {
     "data": {
      "text/html": [
       "<div>\n",
       "<style scoped>\n",
       "    .dataframe tbody tr th:only-of-type {\n",
       "        vertical-align: middle;\n",
       "    }\n",
       "\n",
       "    .dataframe tbody tr th {\n",
       "        vertical-align: top;\n",
       "    }\n",
       "\n",
       "    .dataframe thead th {\n",
       "        text-align: right;\n",
       "    }\n",
       "</style>\n",
       "<table border=\"1\" class=\"dataframe\">\n",
       "  <thead>\n",
       "    <tr style=\"text-align: right;\">\n",
       "      <th></th>\n",
       "      <th>self previous shot</th>\n",
       "      <th>player position</th>\n",
       "      <th>home game</th>\n",
       "      <th>location x</th>\n",
       "      <th>opponent previous shot</th>\n",
       "      <th>home team</th>\n",
       "      <th>shot type</th>\n",
       "      <th>points</th>\n",
       "      <th>away team</th>\n",
       "      <th>location y</th>\n",
       "      <th>time</th>\n",
       "      <th>date</th>\n",
       "      <th>shoot player</th>\n",
       "      <th>time from last shot</th>\n",
       "      <th>quarter</th>\n",
       "      <th>current shot outcome</th>\n",
       "      <th>My_Team</th>\n",
       "      <th>HomeAway</th>\n",
       "      <th>points_gained</th>\n",
       "      <th>difference</th>\n",
       "    </tr>\n",
       "  </thead>\n",
       "  <tbody>\n",
       "    <tr>\n",
       "      <th>0</th>\n",
       "      <td>NaN</td>\n",
       "      <td>PG</td>\n",
       "      <td>No</td>\n",
       "      <td>881.0</td>\n",
       "      <td>NaN</td>\n",
       "      <td>CLE</td>\n",
       "      <td>Driving Layup</td>\n",
       "      <td>2</td>\n",
       "      <td>NYK</td>\n",
       "      <td>246.0</td>\n",
       "      <td>0:20</td>\n",
       "      <td>2016-10-25</td>\n",
       "      <td>Derrick Rose</td>\n",
       "      <td>NaN</td>\n",
       "      <td>1</td>\n",
       "      <td>SCORED</td>\n",
       "      <td>OPP</td>\n",
       "      <td>CLE_NYK</td>\n",
       "      <td>2.0</td>\n",
       "      <td>0.0</td>\n",
       "    </tr>\n",
       "    <tr>\n",
       "      <th>1</th>\n",
       "      <td>NaN</td>\n",
       "      <td>PF</td>\n",
       "      <td>Yes</td>\n",
       "      <td>87.0</td>\n",
       "      <td>SCORED</td>\n",
       "      <td>CLE</td>\n",
       "      <td>Hook Shot</td>\n",
       "      <td>2</td>\n",
       "      <td>NYK</td>\n",
       "      <td>239.0</td>\n",
       "      <td>0:34</td>\n",
       "      <td>2016-10-25</td>\n",
       "      <td>Kevin Love</td>\n",
       "      <td>NaN</td>\n",
       "      <td>1</td>\n",
       "      <td>MISSED</td>\n",
       "      <td>CLE</td>\n",
       "      <td>CLE_NYK</td>\n",
       "      <td>0.0</td>\n",
       "      <td>-2.0</td>\n",
       "    </tr>\n",
       "    <tr>\n",
       "      <th>2</th>\n",
       "      <td>SCORED</td>\n",
       "      <td>SF</td>\n",
       "      <td>No</td>\n",
       "      <td>760.0</td>\n",
       "      <td>MISSED</td>\n",
       "      <td>CLE</td>\n",
       "      <td>Jump Shot</td>\n",
       "      <td>2</td>\n",
       "      <td>NYK</td>\n",
       "      <td>102.0</td>\n",
       "      <td>0:44</td>\n",
       "      <td>2016-10-25</td>\n",
       "      <td>Carmelo Anthony</td>\n",
       "      <td>24.0</td>\n",
       "      <td>1</td>\n",
       "      <td>MISSED</td>\n",
       "      <td>OPP</td>\n",
       "      <td>CLE_NYK</td>\n",
       "      <td>0.0</td>\n",
       "      <td>-2.0</td>\n",
       "    </tr>\n",
       "    <tr>\n",
       "      <th>3</th>\n",
       "      <td>MISSED</td>\n",
       "      <td>PF</td>\n",
       "      <td>No</td>\n",
       "      <td>890.0</td>\n",
       "      <td>MISSED</td>\n",
       "      <td>CLE</td>\n",
       "      <td>Tip Layup Shot</td>\n",
       "      <td>2</td>\n",
       "      <td>NYK</td>\n",
       "      <td>226.0</td>\n",
       "      <td>0:45</td>\n",
       "      <td>2016-10-25</td>\n",
       "      <td>Kristaps Porzingis</td>\n",
       "      <td>1.0</td>\n",
       "      <td>1</td>\n",
       "      <td>SCORED</td>\n",
       "      <td>OPP</td>\n",
       "      <td>CLE_NYK</td>\n",
       "      <td>2.0</td>\n",
       "      <td>-2.0</td>\n",
       "    </tr>\n",
       "    <tr>\n",
       "      <th>4</th>\n",
       "      <td>SCORED</td>\n",
       "      <td>SF</td>\n",
       "      <td>Yes</td>\n",
       "      <td>52.0</td>\n",
       "      <td>MISSED</td>\n",
       "      <td>CLE</td>\n",
       "      <td>Running Dunk</td>\n",
       "      <td>2</td>\n",
       "      <td>NYK</td>\n",
       "      <td>250.0</td>\n",
       "      <td>10:05</td>\n",
       "      <td>2016-10-25</td>\n",
       "      <td>Richard Jefferson</td>\n",
       "      <td>21.0</td>\n",
       "      <td>1</td>\n",
       "      <td>SCORED</td>\n",
       "      <td>CLE</td>\n",
       "      <td>CLE_NYK</td>\n",
       "      <td>2.0</td>\n",
       "      <td>-4.0</td>\n",
       "    </tr>\n",
       "  </tbody>\n",
       "</table>\n",
       "</div>"
      ],
      "text/plain": [
       "  self previous shot player position home game  location x  \\\n",
       "0                NaN              PG        No       881.0   \n",
       "1                NaN              PF       Yes        87.0   \n",
       "2             SCORED              SF        No       760.0   \n",
       "3             MISSED              PF        No       890.0   \n",
       "4             SCORED              SF       Yes        52.0   \n",
       "\n",
       "  opponent previous shot home team       shot type  points away team  \\\n",
       "0                    NaN       CLE   Driving Layup       2       NYK   \n",
       "1                 SCORED       CLE       Hook Shot       2       NYK   \n",
       "2                 MISSED       CLE       Jump Shot       2       NYK   \n",
       "3                 MISSED       CLE  Tip Layup Shot       2       NYK   \n",
       "4                 MISSED       CLE    Running Dunk       2       NYK   \n",
       "\n",
       "   location y   time        date        shoot player  time from last shot  \\\n",
       "0       246.0   0:20  2016-10-25        Derrick Rose                  NaN   \n",
       "1       239.0   0:34  2016-10-25          Kevin Love                  NaN   \n",
       "2       102.0   0:44  2016-10-25     Carmelo Anthony                 24.0   \n",
       "3       226.0   0:45  2016-10-25  Kristaps Porzingis                  1.0   \n",
       "4       250.0  10:05  2016-10-25   Richard Jefferson                 21.0   \n",
       "\n",
       "   quarter current shot outcome My_Team HomeAway  points_gained  difference  \n",
       "0        1               SCORED     OPP  CLE_NYK            2.0         0.0  \n",
       "1        1               MISSED     CLE  CLE_NYK            0.0        -2.0  \n",
       "2        1               MISSED     OPP  CLE_NYK            0.0        -2.0  \n",
       "3        1               SCORED     OPP  CLE_NYK            2.0        -2.0  \n",
       "4        1               SCORED     CLE  CLE_NYK            2.0        -4.0  "
      ]
     },
     "execution_count": 8,
     "metadata": {},
     "output_type": "execute_result"
    }
   ],
   "source": [
    "lebron = pd.read_csv(\"train.csv\" ,index_col=0)\n",
    "lebron.head() #head() ilk 5 veriyi getirir."
   ]
  },
  {
   "cell_type": "markdown",
   "metadata": {},
   "source": [
    "4) Kaç sütun ve kaç satır içerdiğini yazdırın."
   ]
  },
  {
   "cell_type": "code",
   "execution_count": 9,
   "metadata": {
    "execution": {
     "iopub.execute_input": "2022-05-06T05:41:09.134144Z",
     "iopub.status.busy": "2022-05-06T05:41:09.133868Z",
     "iopub.status.idle": "2022-05-06T05:41:09.141765Z",
     "shell.execute_reply": "2022-05-06T05:41:09.140863Z",
     "shell.execute_reply.started": "2022-05-06T05:41:09.134115Z"
    }
   },
   "outputs": [
    {
     "data": {
      "text/plain": [
       "(13551, 20)"
      ]
     },
     "execution_count": 9,
     "metadata": {},
     "output_type": "execute_result"
    }
   ],
   "source": [
    "lebron.shape #shape ile kaç satır kaç sütun olduğunu buluruz."
   ]
  },
  {
   "cell_type": "markdown",
   "metadata": {},
   "source": [
    "5) Değişken tiplerimiz neler? (Float,int,str) gibi, bunları yazdırın."
   ]
  },
  {
   "cell_type": "code",
   "execution_count": 10,
   "metadata": {
    "execution": {
     "iopub.execute_input": "2022-05-06T05:41:12.419891Z",
     "iopub.status.busy": "2022-05-06T05:41:12.419163Z",
     "iopub.status.idle": "2022-05-06T05:41:12.455715Z",
     "shell.execute_reply": "2022-05-06T05:41:12.455069Z",
     "shell.execute_reply.started": "2022-05-06T05:41:12.419857Z"
    }
   },
   "outputs": [
    {
     "name": "stdout",
     "output_type": "stream",
     "text": [
      "<class 'pandas.core.frame.DataFrame'>\n",
      "Int64Index: 13551 entries, 0 to 13550\n",
      "Data columns (total 20 columns):\n",
      " #   Column                  Non-Null Count  Dtype  \n",
      "---  ------                  --------------  -----  \n",
      " 0   self previous shot      13395 non-null  object \n",
      " 1   player position         13551 non-null  object \n",
      " 2   home game               13551 non-null  object \n",
      " 3   location x              13541 non-null  float64\n",
      " 4   opponent previous shot  13452 non-null  object \n",
      " 5   home team               13551 non-null  object \n",
      " 6   shot type               13551 non-null  object \n",
      " 7   points                  13551 non-null  int64  \n",
      " 8   away team               13551 non-null  object \n",
      " 9   location y              13541 non-null  float64\n",
      " 10  time                    13551 non-null  object \n",
      " 11  date                    13551 non-null  object \n",
      " 12  shoot player            13551 non-null  object \n",
      " 13  time from last shot     12911 non-null  float64\n",
      " 14  quarter                 13551 non-null  int64  \n",
      " 15  current shot outcome    13551 non-null  object \n",
      " 16  My_Team                 13551 non-null  object \n",
      " 17  HomeAway                13551 non-null  object \n",
      " 18  points_gained           13551 non-null  float64\n",
      " 19  difference              13551 non-null  float64\n",
      "dtypes: float64(5), int64(2), object(13)\n",
      "memory usage: 2.2+ MB\n"
     ]
    }
   ],
   "source": [
    "lebron.info() #data tiplerini info fonksiyonu ile görebiliriz."
   ]
  },
  {
   "cell_type": "markdown",
   "metadata": {},
   "source": [
    "6) Cleveland takımında en yüksek yüzdeyle şut atan oyuncu kimdir? Bunu bulurken, bütün şutları değerlendirin, serbest atış, 2 sayılık atış ve 3 sayılık atış olması önemli değil. Bu değer kaçtır?"
   ]
  },
  {
   "cell_type": "code",
   "execution_count": 11,
   "metadata": {
    "execution": {
     "iopub.execute_input": "2022-05-06T05:41:18.151397Z",
     "iopub.status.busy": "2022-05-06T05:41:18.150877Z",
     "iopub.status.idle": "2022-05-06T05:41:18.163960Z",
     "shell.execute_reply": "2022-05-06T05:41:18.163320Z",
     "shell.execute_reply.started": "2022-05-06T05:41:18.151360Z"
    }
   },
   "outputs": [
    {
     "data": {
      "text/plain": [
       "'Kyrie Irving'"
      ]
     },
     "execution_count": 11,
     "metadata": {},
     "output_type": "execute_result"
    }
   ],
   "source": [
    "cleveland_team = lebron.loc[lebron.My_Team == \"CLE\"] # cleveland takımını ayırırız.\n",
    "maxpercentplayer = cleveland_team.groupby([\"shoot player\"]).points.count() #daha sonra clevenddaki oyuncuları gruplayıp kaç atış yaptıklarından en fazla atış yapan oyuncuyu buluruz.\n",
    "maxpercentplayer.idxmax()"
   ]
  },
  {
   "cell_type": "markdown",
   "metadata": {},
   "source": [
    "7) Cleveland takımındaki her oyuncunun attığı toplam şut sayısını bulunuz."
   ]
  },
  {
   "cell_type": "code",
   "execution_count": 12,
   "metadata": {
    "execution": {
     "iopub.execute_input": "2022-05-06T05:41:20.473831Z",
     "iopub.status.busy": "2022-05-06T05:41:20.473382Z",
     "iopub.status.idle": "2022-05-06T05:41:20.486779Z",
     "shell.execute_reply": "2022-05-06T05:41:20.486039Z",
     "shell.execute_reply.started": "2022-05-06T05:41:20.473785Z"
    }
   },
   "outputs": [
    {
     "data": {
      "text/plain": [
       "shoot player\n",
       "Channing Frye         500\n",
       "Chris Andersen         17\n",
       "DeAndre Liggins       130\n",
       "Deron Williams        140\n",
       "Derrick Williams       95\n",
       "Iman Shumpert         453\n",
       "J.R. Smith            335\n",
       "James Jones            95\n",
       "Jordan McRae          141\n",
       "Kay Felder            150\n",
       "Kevin Love            843\n",
       "Kyle Korver           269\n",
       "Kyrie Irving         1349\n",
       "Larry Sanders           3\n",
       "LeBron James         1296\n",
       "Mike Dunleavy          83\n",
       "Richard Jefferson     321\n",
       "Tristan Thompson      416\n",
       "Walter Tavares          4\n",
       "Name: points, dtype: int64"
      ]
     },
     "execution_count": 12,
     "metadata": {},
     "output_type": "execute_result"
    }
   ],
   "source": [
    "cleveland_team = lebron.loc[lebron.My_Team == \"CLE\"]\n",
    "players_count = cleveland_team.groupby([\"shoot player\"]).points.count()\n",
    "players_count"
   ]
  },
  {
   "cell_type": "markdown",
   "metadata": {},
   "source": [
    "8) Lebron James'in attığı şutların içerisinde maksimum x değerine sahip entry'nin indexini bulunuz."
   ]
  },
  {
   "cell_type": "code",
   "execution_count": 13,
   "metadata": {
    "execution": {
     "iopub.execute_input": "2022-05-06T05:41:29.089926Z",
     "iopub.status.busy": "2022-05-06T05:41:29.089578Z",
     "iopub.status.idle": "2022-05-06T05:41:29.096069Z",
     "shell.execute_reply": "2022-05-06T05:41:29.094988Z",
     "shell.execute_reply.started": "2022-05-06T05:41:29.089887Z"
    }
   },
   "outputs": [
    {
     "name": "stdout",
     "output_type": "stream",
     "text": [
      "12407\n"
     ]
    }
   ],
   "source": [
    "maxIndex = lebronJames[\"location x\"].idxmax() # 1. sorudaki lebron jamesin şutları olan veriden max x değerine sahip index bulunur.\n",
    "print(maxIndex)"
   ]
  },
  {
   "cell_type": "markdown",
   "metadata": {},
   "source": [
    "9) Bir fonksiyon tanımlayın. Buradaki amaç location y, ve location x verilerini fonksiyona verdiğinizde, şutun atıldığı noktanın potaya kuşbakışı uzaklığını(feet) buldurmaktır. Bu uzaklıkları 0-10,10-20,20-30, 30+ olacak şekilde, yakın, orta, uzak ve orta sahadan gibi isimlerle sınıflandırın. Bu sınıflandırmayı verinize yeni bir sütun(feature) olarak ekleyin.\n"
   ]
  },
  {
   "cell_type": "code",
   "execution_count": 14,
   "metadata": {
    "execution": {
     "iopub.execute_input": "2022-05-06T05:41:37.265641Z",
     "iopub.status.busy": "2022-05-06T05:41:37.265161Z",
     "iopub.status.idle": "2022-05-06T05:41:39.874198Z",
     "shell.execute_reply": "2022-05-06T05:41:39.873236Z",
     "shell.execute_reply.started": "2022-05-06T05:41:37.265609Z"
    }
   },
   "outputs": [
    {
     "data": {
      "text/html": [
       "<div>\n",
       "<style scoped>\n",
       "    .dataframe tbody tr th:only-of-type {\n",
       "        vertical-align: middle;\n",
       "    }\n",
       "\n",
       "    .dataframe tbody tr th {\n",
       "        vertical-align: top;\n",
       "    }\n",
       "\n",
       "    .dataframe thead th {\n",
       "        text-align: right;\n",
       "    }\n",
       "</style>\n",
       "<table border=\"1\" class=\"dataframe\">\n",
       "  <thead>\n",
       "    <tr style=\"text-align: right;\">\n",
       "      <th></th>\n",
       "      <th>self previous shot</th>\n",
       "      <th>player position</th>\n",
       "      <th>home game</th>\n",
       "      <th>location x</th>\n",
       "      <th>opponent previous shot</th>\n",
       "      <th>home team</th>\n",
       "      <th>shot type</th>\n",
       "      <th>points</th>\n",
       "      <th>away team</th>\n",
       "      <th>location y</th>\n",
       "      <th>...</th>\n",
       "      <th>shoot player</th>\n",
       "      <th>time from last shot</th>\n",
       "      <th>quarter</th>\n",
       "      <th>current shot outcome</th>\n",
       "      <th>My_Team</th>\n",
       "      <th>HomeAway</th>\n",
       "      <th>points_gained</th>\n",
       "      <th>difference</th>\n",
       "      <th>distance</th>\n",
       "      <th>distanceFloat</th>\n",
       "    </tr>\n",
       "  </thead>\n",
       "  <tbody>\n",
       "    <tr>\n",
       "      <th>0</th>\n",
       "      <td>NaN</td>\n",
       "      <td>PG</td>\n",
       "      <td>No</td>\n",
       "      <td>881.0</td>\n",
       "      <td>NaN</td>\n",
       "      <td>CLE</td>\n",
       "      <td>Driving Layup</td>\n",
       "      <td>2</td>\n",
       "      <td>NYK</td>\n",
       "      <td>246.0</td>\n",
       "      <td>...</td>\n",
       "      <td>Derrick Rose</td>\n",
       "      <td>NaN</td>\n",
       "      <td>1</td>\n",
       "      <td>SCORED</td>\n",
       "      <td>OPP</td>\n",
       "      <td>CLE_NYK</td>\n",
       "      <td>2.0</td>\n",
       "      <td>0.0</td>\n",
       "      <td>yakın</td>\n",
       "      <td>7.632169</td>\n",
       "    </tr>\n",
       "    <tr>\n",
       "      <th>1</th>\n",
       "      <td>NaN</td>\n",
       "      <td>PF</td>\n",
       "      <td>Yes</td>\n",
       "      <td>87.0</td>\n",
       "      <td>SCORED</td>\n",
       "      <td>CLE</td>\n",
       "      <td>Hook Shot</td>\n",
       "      <td>2</td>\n",
       "      <td>NYK</td>\n",
       "      <td>239.0</td>\n",
       "      <td>...</td>\n",
       "      <td>Kevin Love</td>\n",
       "      <td>NaN</td>\n",
       "      <td>1</td>\n",
       "      <td>MISSED</td>\n",
       "      <td>CLE</td>\n",
       "      <td>CLE_NYK</td>\n",
       "      <td>0.0</td>\n",
       "      <td>-2.0</td>\n",
       "      <td>orta sahadan</td>\n",
       "      <td>36.211186</td>\n",
       "    </tr>\n",
       "    <tr>\n",
       "      <th>2</th>\n",
       "      <td>SCORED</td>\n",
       "      <td>SF</td>\n",
       "      <td>No</td>\n",
       "      <td>760.0</td>\n",
       "      <td>MISSED</td>\n",
       "      <td>CLE</td>\n",
       "      <td>Jump Shot</td>\n",
       "      <td>2</td>\n",
       "      <td>NYK</td>\n",
       "      <td>102.0</td>\n",
       "      <td>...</td>\n",
       "      <td>Carmelo Anthony</td>\n",
       "      <td>24.0</td>\n",
       "      <td>1</td>\n",
       "      <td>MISSED</td>\n",
       "      <td>OPP</td>\n",
       "      <td>CLE_NYK</td>\n",
       "      <td>0.0</td>\n",
       "      <td>-2.0</td>\n",
       "      <td>orta sahadan</td>\n",
       "      <td>195.346487</td>\n",
       "    </tr>\n",
       "    <tr>\n",
       "      <th>3</th>\n",
       "      <td>MISSED</td>\n",
       "      <td>PF</td>\n",
       "      <td>No</td>\n",
       "      <td>890.0</td>\n",
       "      <td>MISSED</td>\n",
       "      <td>CLE</td>\n",
       "      <td>Tip Layup Shot</td>\n",
       "      <td>2</td>\n",
       "      <td>NYK</td>\n",
       "      <td>226.0</td>\n",
       "      <td>...</td>\n",
       "      <td>Kristaps Porzingis</td>\n",
       "      <td>1.0</td>\n",
       "      <td>1</td>\n",
       "      <td>SCORED</td>\n",
       "      <td>OPP</td>\n",
       "      <td>CLE_NYK</td>\n",
       "      <td>2.0</td>\n",
       "      <td>-2.0</td>\n",
       "      <td>uzak</td>\n",
       "      <td>24.129857</td>\n",
       "    </tr>\n",
       "    <tr>\n",
       "      <th>4</th>\n",
       "      <td>SCORED</td>\n",
       "      <td>SF</td>\n",
       "      <td>Yes</td>\n",
       "      <td>52.0</td>\n",
       "      <td>MISSED</td>\n",
       "      <td>CLE</td>\n",
       "      <td>Running Dunk</td>\n",
       "      <td>2</td>\n",
       "      <td>NYK</td>\n",
       "      <td>250.0</td>\n",
       "      <td>...</td>\n",
       "      <td>Richard Jefferson</td>\n",
       "      <td>21.0</td>\n",
       "      <td>1</td>\n",
       "      <td>SCORED</td>\n",
       "      <td>CLE</td>\n",
       "      <td>CLE_NYK</td>\n",
       "      <td>2.0</td>\n",
       "      <td>-4.0</td>\n",
       "      <td>yakın</td>\n",
       "      <td>0.500000</td>\n",
       "    </tr>\n",
       "  </tbody>\n",
       "</table>\n",
       "<p>5 rows × 22 columns</p>\n",
       "</div>"
      ],
      "text/plain": [
       "  self previous shot player position home game  location x  \\\n",
       "0                NaN              PG        No       881.0   \n",
       "1                NaN              PF       Yes        87.0   \n",
       "2             SCORED              SF        No       760.0   \n",
       "3             MISSED              PF        No       890.0   \n",
       "4             SCORED              SF       Yes        52.0   \n",
       "\n",
       "  opponent previous shot home team       shot type  points away team  \\\n",
       "0                    NaN       CLE   Driving Layup       2       NYK   \n",
       "1                 SCORED       CLE       Hook Shot       2       NYK   \n",
       "2                 MISSED       CLE       Jump Shot       2       NYK   \n",
       "3                 MISSED       CLE  Tip Layup Shot       2       NYK   \n",
       "4                 MISSED       CLE    Running Dunk       2       NYK   \n",
       "\n",
       "   location y  ...        shoot player time from last shot quarter  \\\n",
       "0       246.0  ...        Derrick Rose                 NaN       1   \n",
       "1       239.0  ...          Kevin Love                 NaN       1   \n",
       "2       102.0  ...     Carmelo Anthony                24.0       1   \n",
       "3       226.0  ...  Kristaps Porzingis                 1.0       1   \n",
       "4       250.0  ...   Richard Jefferson                21.0       1   \n",
       "\n",
       "   current shot outcome  My_Team HomeAway points_gained difference  \\\n",
       "0                SCORED      OPP  CLE_NYK           2.0        0.0   \n",
       "1                MISSED      CLE  CLE_NYK           0.0       -2.0   \n",
       "2                MISSED      OPP  CLE_NYK           0.0       -2.0   \n",
       "3                SCORED      OPP  CLE_NYK           2.0       -2.0   \n",
       "4                SCORED      CLE  CLE_NYK           2.0       -4.0   \n",
       "\n",
       "       distance  distanceFloat  \n",
       "0         yakın       7.632169  \n",
       "1  orta sahadan      36.211186  \n",
       "2  orta sahadan     195.346487  \n",
       "3          uzak      24.129857  \n",
       "4         yakın       0.500000  \n",
       "\n",
       "[5 rows x 22 columns]"
      ]
     },
     "execution_count": 14,
     "metadata": {},
     "output_type": "execute_result"
    }
   ],
   "source": [
    "#ev sahibi takımın hep sol potayla başladığını ve 2. çeyrekte (devre arasında) pota değişitiği varsayılarak yapılmıştır.\n",
    "import math\n",
    "\n",
    "def distance(location_x,location_y,homeGame,awayTeam,quarter):\n",
    "    distances = 0\n",
    "    #sol potanın x ve y değerleri\n",
    "    sol_x = 52.5\n",
    "    sol_y = 250\n",
    "    #sağ potanın x ve y değerleri\n",
    "    sag_x = 887.5\n",
    "    sag_y = 250\n",
    "    \n",
    "    #eğer ev sahibi takımsa oyun daha yarıya gelmediyse bu takım sol potayı kullanır.\n",
    "    if homeGame == \"Yes\" and (quarter  == 1 or quarter == 2):\n",
    "        distances = math.sqrt((sol_x - location_x)**2 + (sol_y - location_y)**2)\n",
    "    #eğer ev sahibi takım ve oyun yarıyı geçtiyse pota değişir ve sağ potaya geçer.\n",
    "    elif homeGame == \"Yes\" and (quarter == 3 or quarter == 4):\n",
    "        distances = math.sqrt((sag_x - location_x)**2 + (sag_y - location_y)**2)\n",
    "    elif homeGame == \"Yes\" and (quarter  == 5 or quarter == 6):\n",
    "        distances = math.sqrt((sol_x - location_x)**2 + (sol_y - location_y)**2)\n",
    "    #eğer ev sahibi takım değilse ve oyun yeni başladıysa bu takım sağ potayı kullanır.\n",
    "    elif homeGame == \"No\" and (quarter  == 1 or quarter == 2):\n",
    "        distances = math.sqrt((sag_x - location_x)**2 + (sag_y - location_y)**2)\n",
    "    #eğer ev sahibi takım değilse ve oyun yarıyı geçtiyse pota değişir ve sol potaya geçer.\n",
    "    elif homeGame == \"No\" and (quarter == 3 or quarter == 4):\n",
    "        distances = math.sqrt((sol_x - location_x)**2 + (sol_y - location_y)**2)\n",
    "    elif homeGame == \"No\" and (quarter  == 5 or quarter == 6):\n",
    "        distances = math.sqrt((sag_x - location_x)**2 + (sag_y - location_y)**2)\n",
    "    #NaN değerlere sahip olan değerler için uzaklık 0 yapılır.\n",
    "    else :\n",
    "        distances = 0\n",
    "            \n",
    "    return distances\n",
    "\n",
    "\n",
    "distanceslist = [] #yakın uzak orta diye yeni column eklemek için list\n",
    "distanceslistfloat = [] #bu uzaklık değerlerini de yeni column olarak eklemek için list\n",
    "\n",
    "for i in range(len(lebron)) :\n",
    "    lebron_ind = lebron.loc[lebron.index[i]]\n",
    "    dist = distance(lebron_ind[\"location x\"],lebron_ind[\"location y\"],lebron_ind[\"home game\"],lebron_ind[\"away team\"],lebron_ind[\"quarter\"])\n",
    "    distanceslistfloat.append(dist)\n",
    "    if dist > 0.0 and dist < 10.0:\n",
    "        distanceslist.append(\"yakın\")\n",
    "    elif dist > 10.0 and dist < 20.0:\n",
    "        distanceslist.append(\"orta\")\n",
    "    elif dist > 20.0 and dist < 30.0:\n",
    "        distanceslist.append(\"uzak\")\n",
    "    elif dist > 30.0 :\n",
    "        distanceslist.append(\"orta sahadan\") \n",
    "    else:\n",
    "        distanceslist.append(\"NaN\") # distance 0 olan Nan değerler yine Nan gösterilcek\n",
    "        \n",
    "lebron[\"distance\"] = distanceslist # distancelar yakın orta uzak olarak yeni column olarak eklendi\n",
    "lebron[\"distanceFloat\"] = distanceslistfloat # disctanceların float değerleri de yeni column olarak eklendi\n",
    "lebron.head()"
   ]
  },
  {
   "cell_type": "markdown",
   "metadata": {},
   "source": [
    "10) Şut tiplerini bir liste haline getirin ve verilerin tümünü kullanarak her şuttan ne kadar kullanıldığını bulun. Listeyi alfabe sırasında sıralayın ve listenin sonuna kendi isimlendirdiğiniz bir şutu ekleyin. Sonra eklediğiniz bu şutu silin. Bank shot içeren indexleri bir liste haline getirin."
   ]
  },
  {
   "cell_type": "code",
   "execution_count": 15,
   "metadata": {
    "execution": {
     "iopub.execute_input": "2022-05-06T05:45:34.371030Z",
     "iopub.status.busy": "2022-05-06T05:45:34.370725Z",
     "iopub.status.idle": "2022-05-06T05:45:34.381855Z",
     "shell.execute_reply": "2022-05-06T05:45:34.381150Z",
     "shell.execute_reply.started": "2022-05-06T05:45:34.371000Z"
    }
   },
   "outputs": [
    {
     "data": {
      "text/plain": [
       "shot type\n",
       "Alley Oop Dunk                          89\n",
       "Alley Oop Layup                         56\n",
       "Cutting Dunk Shot                      188\n",
       "Cutting Finger Roll Layup Shot          19\n",
       "Cutting Layup Shot                     279\n",
       "Driving Bank Hook Shot                   3\n",
       "Driving Bank Shot                       98\n",
       "Driving Dunk                           108\n",
       "Driving Finger Roll Layup              134\n",
       "Driving Floating Bank Jump Shot         42\n",
       "Driving Floating Jump Shot             207\n",
       "Driving Hook Shot                       73\n",
       "Driving Layup                         1018\n",
       "Driving Reverse Dunk Shot                3\n",
       "Driving Reverse Layup                  105\n",
       "Dunk                                   147\n",
       "Fadeaway Bank Shot                      13\n",
       "Fadeaway Jumper                        157\n",
       "Finger Roll Layup                       25\n",
       "Floating Jump Shot                     229\n",
       "Hook Bank Shot                           5\n",
       "Hook Shot                              192\n",
       "Jump Bank Shot                         145\n",
       "Jump Shot                             6656\n",
       "Layup                                  760\n",
       "Pullup Bank Shot                        32\n",
       "Pullup Jump Shot                       696\n",
       "Putback Dunk                            37\n",
       "Putback Layup                          154\n",
       "Reverse Dunk                             6\n",
       "Reverse Layup                          138\n",
       "Running Alley Oop Dunk Shot              6\n",
       "Running Alley Oop Layup Shot             4\n",
       "Running Dunk                           105\n",
       "Running Finger Roll Layup               40\n",
       "Running Hook Shot                        1\n",
       "Running Jump Shot                       79\n",
       "Running Layup                          256\n",
       "Running Pull-Up Jump Shot               26\n",
       "Running Reverse Dunk Shot                1\n",
       "Running Reverse Layup                   23\n",
       "Step Back Bank Jump Shot                 5\n",
       "Step Back Jump Shot                    317\n",
       "Tip Dunk Shot                           37\n",
       "Tip Layup Shot                         275\n",
       "Turnaround Bank Hook Shot                6\n",
       "Turnaround Bank Shot                    36\n",
       "Turnaround Fadeaway                     77\n",
       "Turnaround Fadeaway Bank Jump Shot       2\n",
       "Turnaround Fadeaway Shot                83\n",
       "Turnaround Hook Shot                    99\n",
       "Turnaround Jump Shot                   259\n",
       "Name: shot type, dtype: int64"
      ]
     },
     "execution_count": 15,
     "metadata": {},
     "output_type": "execute_result"
    }
   ],
   "source": [
    "shootType = lebron.groupby([\"shot type\"])[\"shot type\"].size() #her şuttan kaç tane kullanıldığını bulur.\n",
    "shootType"
   ]
  },
  {
   "cell_type": "code",
   "execution_count": 16,
   "metadata": {
    "execution": {
     "iopub.execute_input": "2022-05-06T05:45:57.090248Z",
     "iopub.status.busy": "2022-05-06T05:45:57.089725Z",
     "iopub.status.idle": "2022-05-06T05:45:57.110691Z",
     "shell.execute_reply": "2022-05-06T05:45:57.109758Z",
     "shell.execute_reply.started": "2022-05-06T05:45:57.090196Z"
    }
   },
   "outputs": [
    {
     "data": {
      "text/plain": [
       "array(['Alley Oop Dunk', 'Alley Oop Layup', 'Cutting Dunk Shot',\n",
       "       'Cutting Finger Roll Layup Shot', 'Cutting Layup Shot',\n",
       "       'Driving Bank Hook Shot', 'Driving Bank Shot', 'Driving Dunk',\n",
       "       'Driving Finger Roll Layup', 'Driving Floating Bank Jump Shot',\n",
       "       'Driving Floating Jump Shot', 'Driving Hook Shot', 'Driving Layup',\n",
       "       'Driving Reverse Dunk Shot', 'Driving Reverse Layup', 'Dunk',\n",
       "       'Fadeaway Bank Shot', 'Fadeaway Jumper', 'Finger Roll Layup',\n",
       "       'Floating Jump Shot', 'Hook Bank Shot', 'Hook Shot',\n",
       "       'Jump Bank Shot', 'Jump Shot', 'Layup', 'Pullup Bank Shot',\n",
       "       'Pullup Jump Shot', 'Putback Dunk', 'Putback Layup',\n",
       "       'Reverse Dunk', 'Reverse Layup', 'Running Alley Oop Dunk Shot',\n",
       "       'Running Alley Oop Layup Shot', 'Running Dunk',\n",
       "       'Running Finger Roll Layup', 'Running Hook Shot',\n",
       "       'Running Jump Shot', 'Running Layup', 'Running Pull-Up Jump Shot',\n",
       "       'Running Reverse Dunk Shot', 'Running Reverse Layup',\n",
       "       'Step Back Bank Jump Shot', 'Step Back Jump Shot', 'Tip Dunk Shot',\n",
       "       'Tip Layup Shot', 'Turnaround Bank Hook Shot',\n",
       "       'Turnaround Bank Shot', 'Turnaround Fadeaway',\n",
       "       'Turnaround Fadeaway Bank Jump Shot', 'Turnaround Fadeaway Shot',\n",
       "       'Turnaround Hook Shot', 'Turnaround Jump Shot'], dtype=object)"
      ]
     },
     "execution_count": 16,
     "metadata": {},
     "output_type": "execute_result"
    }
   ],
   "source": [
    "liste=lebron[\"shot type\"].sort_values().unique() #şutlar bir listeye alfabetik olarak atılmıştır.\n",
    "liste"
   ]
  },
  {
   "cell_type": "code",
   "execution_count": 17,
   "metadata": {
    "execution": {
     "iopub.execute_input": "2022-05-06T05:45:59.282806Z",
     "iopub.status.busy": "2022-05-06T05:45:59.282150Z",
     "iopub.status.idle": "2022-05-06T05:45:59.289159Z",
     "shell.execute_reply": "2022-05-06T05:45:59.288320Z",
     "shell.execute_reply.started": "2022-05-06T05:45:59.282753Z"
    }
   },
   "outputs": [
    {
     "data": {
      "text/plain": [
       "array(['Alley Oop Dunk', 'Alley Oop Layup', 'Cutting Dunk Shot',\n",
       "       'Cutting Finger Roll Layup Shot', 'Cutting Layup Shot',\n",
       "       'Driving Bank Hook Shot', 'Driving Bank Shot', 'Driving Dunk',\n",
       "       'Driving Finger Roll Layup', 'Driving Floating Bank Jump Shot',\n",
       "       'Driving Floating Jump Shot', 'Driving Hook Shot', 'Driving Layup',\n",
       "       'Driving Reverse Dunk Shot', 'Driving Reverse Layup', 'Dunk',\n",
       "       'Fadeaway Bank Shot', 'Fadeaway Jumper', 'Finger Roll Layup',\n",
       "       'Floating Jump Shot', 'Hook Bank Shot', 'Hook Shot',\n",
       "       'Jump Bank Shot', 'Jump Shot', 'Layup', 'Pullup Bank Shot',\n",
       "       'Pullup Jump Shot', 'Putback Dunk', 'Putback Layup',\n",
       "       'Reverse Dunk', 'Reverse Layup', 'Running Alley Oop Dunk Shot',\n",
       "       'Running Alley Oop Layup Shot', 'Running Dunk',\n",
       "       'Running Finger Roll Layup', 'Running Hook Shot',\n",
       "       'Running Jump Shot', 'Running Layup', 'Running Pull-Up Jump Shot',\n",
       "       'Running Reverse Dunk Shot', 'Running Reverse Layup',\n",
       "       'Step Back Bank Jump Shot', 'Step Back Jump Shot', 'Tip Dunk Shot',\n",
       "       'Tip Layup Shot', 'Turnaround Bank Hook Shot',\n",
       "       'Turnaround Bank Shot', 'Turnaround Fadeaway',\n",
       "       'Turnaround Fadeaway Bank Jump Shot', 'Turnaround Fadeaway Shot',\n",
       "       'Turnaround Hook Shot', 'Turnaround Jump Shot', 'Beyza'],\n",
       "      dtype=object)"
      ]
     },
     "execution_count": 17,
     "metadata": {},
     "output_type": "execute_result"
    }
   ],
   "source": [
    "liste = np.append(liste,\"Beyza\") #listenin sonuna kendi şut tipini ekler.\n",
    "liste"
   ]
  },
  {
   "cell_type": "code",
   "execution_count": 18,
   "metadata": {
    "execution": {
     "iopub.execute_input": "2022-05-06T05:46:02.167745Z",
     "iopub.status.busy": "2022-05-06T05:46:02.167216Z",
     "iopub.status.idle": "2022-05-06T05:46:02.173383Z",
     "shell.execute_reply": "2022-05-06T05:46:02.172718Z",
     "shell.execute_reply.started": "2022-05-06T05:46:02.167708Z"
    }
   },
   "outputs": [
    {
     "data": {
      "text/plain": [
       "array(['Alley Oop Dunk', 'Alley Oop Layup', 'Cutting Dunk Shot',\n",
       "       'Cutting Finger Roll Layup Shot', 'Cutting Layup Shot',\n",
       "       'Driving Bank Hook Shot', 'Driving Bank Shot', 'Driving Dunk',\n",
       "       'Driving Finger Roll Layup', 'Driving Floating Bank Jump Shot',\n",
       "       'Driving Floating Jump Shot', 'Driving Hook Shot', 'Driving Layup',\n",
       "       'Driving Reverse Dunk Shot', 'Driving Reverse Layup', 'Dunk',\n",
       "       'Fadeaway Bank Shot', 'Fadeaway Jumper', 'Finger Roll Layup',\n",
       "       'Floating Jump Shot', 'Hook Bank Shot', 'Hook Shot',\n",
       "       'Jump Bank Shot', 'Jump Shot', 'Layup', 'Pullup Bank Shot',\n",
       "       'Pullup Jump Shot', 'Putback Dunk', 'Putback Layup',\n",
       "       'Reverse Dunk', 'Reverse Layup', 'Running Alley Oop Dunk Shot',\n",
       "       'Running Alley Oop Layup Shot', 'Running Dunk',\n",
       "       'Running Finger Roll Layup', 'Running Hook Shot',\n",
       "       'Running Jump Shot', 'Running Layup', 'Running Pull-Up Jump Shot',\n",
       "       'Running Reverse Dunk Shot', 'Running Reverse Layup',\n",
       "       'Step Back Bank Jump Shot', 'Step Back Jump Shot', 'Tip Dunk Shot',\n",
       "       'Tip Layup Shot', 'Turnaround Bank Hook Shot',\n",
       "       'Turnaround Bank Shot', 'Turnaround Fadeaway',\n",
       "       'Turnaround Fadeaway Bank Jump Shot', 'Turnaround Fadeaway Shot',\n",
       "       'Turnaround Hook Shot', 'Turnaround Jump Shot'], dtype=object)"
      ]
     },
     "execution_count": 18,
     "metadata": {},
     "output_type": "execute_result"
    }
   ],
   "source": [
    "liste = np.delete(liste,len(liste)-1) #listeye eklenen yeni şutu siler.\n",
    "liste"
   ]
  },
  {
   "cell_type": "code",
   "execution_count": 19,
   "metadata": {
    "execution": {
     "iopub.execute_input": "2022-05-06T05:46:04.860118Z",
     "iopub.status.busy": "2022-05-06T05:46:04.859429Z",
     "iopub.status.idle": "2022-05-06T05:46:04.885650Z",
     "shell.execute_reply": "2022-05-06T05:46:04.884993Z",
     "shell.execute_reply.started": "2022-05-06T05:46:04.860067Z"
    }
   },
   "outputs": [
    {
     "data": {
      "text/plain": [
       "Int64Index([  109,   125,   131,   135,   169,   183,   228,   244,   270,\n",
       "              300,\n",
       "            ...\n",
       "            13173, 13197, 13236, 13277, 13308, 13330, 13348, 13367, 13368,\n",
       "            13416],\n",
       "           dtype='int64', length=387)"
      ]
     },
     "execution_count": 19,
     "metadata": {},
     "output_type": "execute_result"
    }
   ],
   "source": [
    "indexes = []\n",
    "shootType = lebron.loc[lebron[\"shot type\"].str.contains(\"Bank\")] #içerisinde \"Bank kelimesi geçen şutları bulur\"\n",
    "indexes =shootType.index #bu şutların indexlerini alıp liste yapar \n",
    "indexes"
   ]
  },
  {
   "cell_type": "markdown",
   "metadata": {},
   "source": [
    "11) Boş bir seri yaratın. Şut tiplerinden 'a' harfi içerenleri listede tutmak için bir kod yazın."
   ]
  },
  {
   "cell_type": "code",
   "execution_count": 20,
   "metadata": {
    "execution": {
     "iopub.execute_input": "2022-05-06T05:46:14.265661Z",
     "iopub.status.busy": "2022-05-06T05:46:14.265382Z",
     "iopub.status.idle": "2022-05-06T05:46:14.287468Z",
     "shell.execute_reply": "2022-05-06T05:46:14.286582Z",
     "shell.execute_reply.started": "2022-05-06T05:46:14.265632Z"
    }
   },
   "outputs": [
    {
     "data": {
      "text/plain": [
       "0                Driving Layup\n",
       "3               Tip Layup Shot\n",
       "14          Cutting Layup Shot\n",
       "18          Floating Jump Shot\n",
       "20              Tip Layup Shot\n",
       "                 ...          \n",
       "13534            Running Layup\n",
       "13535            Running Layup\n",
       "13544    Driving Reverse Layup\n",
       "13545            Driving Layup\n",
       "13550    Driving Reverse Layup\n",
       "Name: shot type, Length: 5138, dtype: object"
      ]
     },
     "execution_count": 20,
     "metadata": {},
     "output_type": "execute_result"
    }
   ],
   "source": [
    "shotTypeWithA=lebron.loc[lebron[\"shot type\"].str.contains(\"a\")][\"shot type\"] #içerisinde a bulunan şut tiplerini listeler.\n",
    "shotTypeWithA"
   ]
  },
  {
   "cell_type": "markdown",
   "metadata": {},
   "source": [
    "12) Derste işlediğimiz, 'List comprehension' kullanarak, atılan tüm şutlardan kaç tanesinin y değerinin 250'den büyük olduğunu veren fonksiyonu yazın.\n",
    "Örnek: def......\n",
    "Return .....\n",
    "Örnekteki gibi 2 satırda yapmanız gereklidir."
   ]
  },
  {
   "cell_type": "code",
   "execution_count": 21,
   "metadata": {
    "execution": {
     "iopub.execute_input": "2022-05-06T05:46:17.299202Z",
     "iopub.status.busy": "2022-05-06T05:46:17.298865Z",
     "iopub.status.idle": "2022-05-06T05:46:17.309451Z",
     "shell.execute_reply": "2022-05-06T05:46:17.308521Z",
     "shell.execute_reply.started": "2022-05-06T05:46:17.299130Z"
    }
   },
   "outputs": [
    {
     "data": {
      "text/plain": [
       "6295"
      ]
     },
     "execution_count": 21,
     "metadata": {},
     "output_type": "execute_result"
    }
   ],
   "source": [
    "def position_y(data):\n",
    "    return len([x for x in data if x>250 ])\n",
    "position_y(lebron[\"location y\"])\n"
   ]
  },
  {
   "cell_type": "markdown",
   "metadata": {},
   "source": [
    "13) Bir dictionary oluşturun. O dictionary'e verimizin quarter bilgisini gönderceğiz. O gönderdiğimiz sayıya göre ilk çeyrek, ikinci çeyrek, üçüncü çeyrek ve son çeyrek olarak değiştirsin."
   ]
  },
  {
   "cell_type": "code",
   "execution_count": 22,
   "metadata": {
    "execution": {
     "iopub.execute_input": "2022-05-06T05:46:22.656399Z",
     "iopub.status.busy": "2022-05-06T05:46:22.655870Z",
     "iopub.status.idle": "2022-05-06T05:46:22.667392Z",
     "shell.execute_reply": "2022-05-06T05:46:22.666378Z",
     "shell.execute_reply.started": "2022-05-06T05:46:22.656362Z"
    }
   },
   "outputs": [
    {
     "data": {
      "text/plain": [
       "{'quarter': 'Son çeyrek'}"
      ]
     },
     "execution_count": 22,
     "metadata": {},
     "output_type": "execute_result"
    }
   ],
   "source": [
    "quarterInfo = lebron[\"quarter\"].tolist()\n",
    "quarterInfo\n",
    "\n",
    "quarterDic = {'quarter':1}\n",
    "\n",
    "for i in quarterInfo:\n",
    "    if i == 1 :\n",
    "        quarterDic[\"quarter\"] = \"Birinci çeyrek\"\n",
    "    elif i == 2 :\n",
    "        quarterDic[\"quarter\"] = \"İkinci çeyrek\"\n",
    "    elif i == 3 :\n",
    "        quarterDic[\"quarter\"] = \"Üçüncü çeyrek\"\n",
    "    elif i == 4 :\n",
    "        quarterDic[\"quarter\"] = \"Son çeyrek\"\n",
    "        \n",
    "quarterDic"
   ]
  },
  {
   "cell_type": "markdown",
   "metadata": {},
   "source": [
    "14) Bugüne kadar kullandığımız bütün module/library'leri yazın. Module'un veya library'nin hangi fonksiyonları içerdiğini yazdırın. O fonksiyonlardan görmediğimiz bir tanesini seçin, ve fonksiyonun hangi değişkenleri aldığını, o değişkenlerin anlamlarını yazdırın."
   ]
  },
  {
   "cell_type": "markdown",
   "metadata": {
    "execution": {
     "iopub.execute_input": "2022-05-01T20:03:57.745613Z",
     "iopub.status.busy": "2022-05-01T20:03:57.745136Z",
     "iopub.status.idle": "2022-05-01T20:03:57.752369Z",
     "shell.execute_reply": "2022-05-01T20:03:57.751488Z",
     "shell.execute_reply.started": "2022-05-01T20:03:57.745578Z"
    }
   },
   "source": [
    " kullanılan libraryler:\n",
    " 1)pandas\n",
    " 2)Seaborn\n",
    " 3)sklearn\n",
    " \n",
    " kullanılan fonksiyonlar ;\n",
    " \n",
    "1) pandas : DataFrame(),Series(),read_csv(),shape, iloc[],loc[],set_index(),describe(),mean(),unique(),value_counts(),map(),apply(),groupby(),count(),min(),max(),agg(),reset_index(),sort_values(),dtypes,astype(),isnull(),notnull(),fillna(),replace(),rename(),join(),corr()\n",
    "\n",
    "2) Seaborn : lineplot(),barplot(),heatmap(),scatterplot(),regplot(),lmplot(),swarmplot(),distplot(),kdeplot(),jointplot()\n",
    "\n",
    "3) sklearn : DecisionTreeRegressor(),predict(), mean_absolute_error(),train_test_split(),RandomForestRegressor()\n",
    "\n",
    "\n",
    "---------------#reset_index fonksiyonunun açıklaması-------------\n",
    "\n",
    "DataFrame.reset_index(level=None, drop=False, inplace=False, col_level=0, col_fill='')\n",
    "Reset the index, or a level of it.\n",
    "\n",
    "Reset the index of the DataFrame, and use the default one instead. If the DataFrame has a MultiIndex, this method can remove one or more levels.\n",
    "\n",
    "Parameters;\n",
    "\n",
    "level : int, str, tuple, or list, default None\n",
    "Yalnızca belirtilen seviyeleri dizinden kaldırın. Varsayılan olarak tüm seviyeleri kaldırır.\n",
    "\n",
    "drop : bool, default False\n",
    "Veri çerçevesi sütunlarına dizin eklemeye çalışmayın. Bu, dizini varsayılan tamsayı dizinine sıfırlar.\n",
    "\n",
    "inplace : bool, default False\n",
    "DataFrame'i yerinde değiştirin (yeni bir nesne oluşturmayın).\n",
    "\n",
    "col_level: int or str, default 0\n",
    "Sütunların birden çok düzeyi varsa, etiketlerin hangi düzeye ekleneceğini belirler. Varsayılan olarak ilk seviyeye eklenir.\n",
    "\n",
    "col_fill: object, default ‘’\n",
    "Sütunların birden çok düzeyi varsa, diğer düzeylerin nasıl adlandırılacağını belirler. Yok ise, dizin adı tekrarlanır.\n"
   ]
  },
  {
   "cell_type": "markdown",
   "metadata": {},
   "source": [
    "15) Lebron James için Atlanta (ATL) ve New York Knicks(NYK maçlarında), kaç şut atıp, kaç şut kaçırdığını gösteren bir dataframe oluşturun. Ve onu yazdırın.\n",
    "Örnek:\n",
    "\tMissed\tScored\n",
    "NYK\t10\t20\n",
    "ATL\t30\t40\n",
    "gibi."
   ]
  },
  {
   "cell_type": "code",
   "execution_count": 23,
   "metadata": {
    "execution": {
     "iopub.execute_input": "2022-05-06T05:46:32.750311Z",
     "iopub.status.busy": "2022-05-06T05:46:32.750024Z",
     "iopub.status.idle": "2022-05-06T05:46:32.765769Z",
     "shell.execute_reply": "2022-05-06T05:46:32.764863Z",
     "shell.execute_reply.started": "2022-05-06T05:46:32.750279Z"
    }
   },
   "outputs": [
    {
     "data": {
      "text/plain": [
       "away team  current shot outcome\n",
       "ATL        BLOCKED                  1\n",
       "           MISSED                  11\n",
       "           SCORED                  20\n",
       "BOS        BLOCKED                  4\n",
       "           MISSED                  15\n",
       "                                   ..\n",
       "UTA        MISSED                   7\n",
       "           SCORED                  13\n",
       "WAS        BLOCKED                  2\n",
       "           MISSED                   9\n",
       "           SCORED                  10\n",
       "Name: current shot outcome, Length: 78, dtype: int64"
      ]
     },
     "execution_count": 23,
     "metadata": {},
     "output_type": "execute_result"
    }
   ],
   "source": [
    "lebronJames = lebron.loc[lebron[\"shoot player\"] == \"LeBron James\"]\n",
    "shots = lebronJames.groupby([\"away team\",'current shot outcome'])['current shot outcome'].count()\n",
    "shots"
   ]
  },
  {
   "cell_type": "markdown",
   "metadata": {},
   "source": [
    "16) Veriyi oyuncu ismi(shoot player) ve çeyrek(quarter)'lara göre gruplandırın. Oluşturduğunuz uzaklık sütununu kullanarak, o çeyreklerde attığı maksimum uzaklıkların indexlerini buldurunuz.\n",
    "Örnek:\n",
    "(Shoot player)\t   (quarter) \t(index)\n",
    "Lebron James \t\t1\t 5\n",
    "Lebron James \t\t2\t 23 \n",
    "Not: Sütün isimleri farklı olabilir, bir önemi yok."
   ]
  },
  {
   "cell_type": "code",
   "execution_count": 24,
   "metadata": {
    "execution": {
     "iopub.execute_input": "2022-05-06T05:46:42.308668Z",
     "iopub.status.busy": "2022-05-06T05:46:42.308371Z",
     "iopub.status.idle": "2022-05-06T05:46:42.419781Z",
     "shell.execute_reply": "2022-05-06T05:46:42.419235Z",
     "shell.execute_reply.started": "2022-05-06T05:46:42.308639Z"
    }
   },
   "outputs": [
    {
     "data": {
      "text/plain": [
       "shoot player   quarter\n",
       "A.J. Hammons   4           2294\n",
       "Aaron Brooks   1          12309\n",
       "               2           1830\n",
       "               3           1867\n",
       "               4           9188\n",
       "                          ...  \n",
       "Zach Randolph  3           3766\n",
       "               4           3938\n",
       "Zaza Pachulia  1           6417\n",
       "               2           6438\n",
       "               3           6513\n",
       "Name: distanceFloat, Length: 1321, dtype: int64"
      ]
     },
     "execution_count": 24,
     "metadata": {},
     "output_type": "execute_result"
    }
   ],
   "source": [
    "maxDist = lebron.groupby([\"shoot player\",\"quarter\"])['distanceFloat'].idxmax()\n",
    "maxDist #buradaki distanceFloat 9. soruda eklenen yeni kolondur."
   ]
  },
  {
   "cell_type": "markdown",
   "metadata": {},
   "source": [
    "17) Cleveland'lı oyuncuları ve karşılarında oynadıkları takımları gruplayın. Her clevelandlı oyuncunun rakibe attığı toplam şutun miktarına göre büyükten küçüğe sıralayın.\n",
    "Örnek:\n",
    "\n",
    "Lebron James NYK 150\n",
    "Lebron James DEN 20\n",
    "gibi."
   ]
  },
  {
   "cell_type": "code",
   "execution_count": 25,
   "metadata": {
    "execution": {
     "iopub.execute_input": "2022-05-06T05:46:50.973824Z",
     "iopub.status.busy": "2022-05-06T05:46:50.973396Z",
     "iopub.status.idle": "2022-05-06T05:46:50.993223Z",
     "shell.execute_reply": "2022-05-06T05:46:50.992640Z",
     "shell.execute_reply.started": "2022-05-06T05:46:50.973778Z"
    }
   },
   "outputs": [
    {
     "data": {
      "text/plain": [
       "shoot player      away team\n",
       "Paul George       IND          126\n",
       "LeBron James      IND          107\n",
       "                  CHA          105\n",
       "Kevin Love        BOS           98\n",
       "Carmelo Anthony   NYK           98\n",
       "                              ... \n",
       "Derrick Williams  WAS            2\n",
       "                  ATL            2\n",
       "DeAndre Liggins   ORL            2\n",
       "                  OKL            2\n",
       "A.J. Hammons      DAL            2\n",
       "Name: points, Length: 637, dtype: int64"
      ]
     },
     "execution_count": 25,
     "metadata": {},
     "output_type": "execute_result"
    }
   ],
   "source": [
    "CLEplayers = lebron.loc[lebron[\"home team\"] == \"CLE\"] #cleveland takımının verilerini alıyoruz\n",
    "#clevelamdlan takımını oyuncularına ve deplasman takımına göre grupluyoruz ve puanlarını toplayıp büyükten küçüğe sıralarız.\n",
    "playersAndOpp = CLEplayers.groupby([\"shoot player\",\"away team\"])['points'].sum().sort_values(ascending = False)\n",
    "playersAndOpp"
   ]
  },
  {
   "cell_type": "markdown",
   "metadata": {},
   "source": [
    "18) Sütunların data type'leri eğer float'sa integer'a, integer ise float'a çevirin. (Orijinal data üstünde yapmayın). Yazdırın.\n"
   ]
  },
  {
   "cell_type": "code",
   "execution_count": 26,
   "metadata": {
    "execution": {
     "iopub.execute_input": "2022-05-06T05:46:58.468190Z",
     "iopub.status.busy": "2022-05-06T05:46:58.467710Z",
     "iopub.status.idle": "2022-05-06T05:46:58.534182Z",
     "shell.execute_reply": "2022-05-06T05:46:58.533351Z",
     "shell.execute_reply.started": "2022-05-06T05:46:58.468141Z"
    }
   },
   "outputs": [
    {
     "name": "stdout",
     "output_type": "stream",
     "text": [
      "<class 'pandas.core.frame.DataFrame'>\n",
      "Int64Index: 12880 entries, 2 to 13550\n",
      "Data columns (total 22 columns):\n",
      " #   Column                  Non-Null Count  Dtype \n",
      "---  ------                  --------------  ----- \n",
      " 0   self previous shot      12880 non-null  object\n",
      " 1   player position         12880 non-null  object\n",
      " 2   home game               12880 non-null  object\n",
      " 3   location x              12880 non-null  int32 \n",
      " 4   opponent previous shot  12880 non-null  object\n",
      " 5   home team               12880 non-null  object\n",
      " 6   shot type               12880 non-null  object\n",
      " 7   points                  12880 non-null  int64 \n",
      " 8   away team               12880 non-null  object\n",
      " 9   location y              12880 non-null  int32 \n",
      " 10  time                    12880 non-null  object\n",
      " 11  date                    12880 non-null  object\n",
      " 12  shoot player            12880 non-null  object\n",
      " 13  time from last shot     12880 non-null  int32 \n",
      " 14  quarter                 12880 non-null  int64 \n",
      " 15  current shot outcome    12880 non-null  object\n",
      " 16  My_Team                 12880 non-null  object\n",
      " 17  HomeAway                12880 non-null  object\n",
      " 18  points_gained           12880 non-null  int32 \n",
      " 19  difference              12880 non-null  int32 \n",
      " 20  distance                12880 non-null  object\n",
      " 21  distanceFloat           12880 non-null  int32 \n",
      "dtypes: int32(6), int64(2), object(14)\n",
      "memory usage: 2.0+ MB\n"
     ]
    },
    {
     "name": "stderr",
     "output_type": "stream",
     "text": [
      "<ipython-input-26-91b9b7db4cf5>:5: SettingWithCopyWarning: \n",
      "A value is trying to be set on a copy of a slice from a DataFrame.\n",
      "Try using .loc[row_indexer,col_indexer] = value instead\n",
      "\n",
      "See the caveats in the documentation: https://pandas.pydata.org/pandas-docs/stable/user_guide/indexing.html#returning-a-view-versus-a-copy\n",
      "  lebron2[i] = lebron2[i].astype(int)\n"
     ]
    }
   ],
   "source": [
    "lebron2 =lebron \n",
    "lebron2 = lebron2.dropna()\n",
    "for i in lebron2.columns:\n",
    "    if lebron2[i].dtype == float :\n",
    "        lebron2[i] = lebron2[i].astype(int)\n",
    "    elif lebron2[i].dtype == int :\n",
    "        lebron2[i] = lebron2[i].astype(float)\n",
    "    \n",
    "lebron2.info()"
   ]
  },
  {
   "cell_type": "markdown",
   "metadata": {},
   "source": [
    "19) Self Previous Shot Sütununda boş veriler var mı? Bu boş veriler doldurulmalı mı? Eğer doldurulmalıysa, fillna() fonksiyonunu kullanarak doldurun."
   ]
  },
  {
   "cell_type": "code",
   "execution_count": 27,
   "metadata": {
    "execution": {
     "iopub.execute_input": "2022-05-06T05:47:14.896935Z",
     "iopub.status.busy": "2022-05-06T05:47:14.896637Z",
     "iopub.status.idle": "2022-05-06T05:47:14.939361Z",
     "shell.execute_reply": "2022-05-06T05:47:14.938524Z",
     "shell.execute_reply.started": "2022-05-06T05:47:14.896903Z"
    }
   },
   "outputs": [
    {
     "data": {
      "text/html": [
       "<div>\n",
       "<style scoped>\n",
       "    .dataframe tbody tr th:only-of-type {\n",
       "        vertical-align: middle;\n",
       "    }\n",
       "\n",
       "    .dataframe tbody tr th {\n",
       "        vertical-align: top;\n",
       "    }\n",
       "\n",
       "    .dataframe thead th {\n",
       "        text-align: right;\n",
       "    }\n",
       "</style>\n",
       "<table border=\"1\" class=\"dataframe\">\n",
       "  <thead>\n",
       "    <tr style=\"text-align: right;\">\n",
       "      <th></th>\n",
       "      <th>self previous shot</th>\n",
       "      <th>player position</th>\n",
       "      <th>home game</th>\n",
       "      <th>location x</th>\n",
       "      <th>opponent previous shot</th>\n",
       "      <th>home team</th>\n",
       "      <th>shot type</th>\n",
       "      <th>points</th>\n",
       "      <th>away team</th>\n",
       "      <th>location y</th>\n",
       "      <th>...</th>\n",
       "      <th>shoot player</th>\n",
       "      <th>time from last shot</th>\n",
       "      <th>quarter</th>\n",
       "      <th>current shot outcome</th>\n",
       "      <th>My_Team</th>\n",
       "      <th>HomeAway</th>\n",
       "      <th>points_gained</th>\n",
       "      <th>difference</th>\n",
       "      <th>distance</th>\n",
       "      <th>distanceFloat</th>\n",
       "    </tr>\n",
       "  </thead>\n",
       "  <tbody>\n",
       "    <tr>\n",
       "      <th>0</th>\n",
       "      <td>NaN</td>\n",
       "      <td>PG</td>\n",
       "      <td>No</td>\n",
       "      <td>881.0</td>\n",
       "      <td>NaN</td>\n",
       "      <td>CLE</td>\n",
       "      <td>Driving Layup</td>\n",
       "      <td>2</td>\n",
       "      <td>NYK</td>\n",
       "      <td>246.0</td>\n",
       "      <td>...</td>\n",
       "      <td>Derrick Rose</td>\n",
       "      <td>NaN</td>\n",
       "      <td>1</td>\n",
       "      <td>SCORED</td>\n",
       "      <td>OPP</td>\n",
       "      <td>CLE_NYK</td>\n",
       "      <td>2.0</td>\n",
       "      <td>0.0</td>\n",
       "      <td>yakın</td>\n",
       "      <td>7.632169</td>\n",
       "    </tr>\n",
       "    <tr>\n",
       "      <th>1</th>\n",
       "      <td>NaN</td>\n",
       "      <td>PF</td>\n",
       "      <td>Yes</td>\n",
       "      <td>87.0</td>\n",
       "      <td>SCORED</td>\n",
       "      <td>CLE</td>\n",
       "      <td>Hook Shot</td>\n",
       "      <td>2</td>\n",
       "      <td>NYK</td>\n",
       "      <td>239.0</td>\n",
       "      <td>...</td>\n",
       "      <td>Kevin Love</td>\n",
       "      <td>NaN</td>\n",
       "      <td>1</td>\n",
       "      <td>MISSED</td>\n",
       "      <td>CLE</td>\n",
       "      <td>CLE_NYK</td>\n",
       "      <td>0.0</td>\n",
       "      <td>-2.0</td>\n",
       "      <td>orta sahadan</td>\n",
       "      <td>36.211186</td>\n",
       "    </tr>\n",
       "    <tr>\n",
       "      <th>181</th>\n",
       "      <td>NaN</td>\n",
       "      <td>PG</td>\n",
       "      <td>No</td>\n",
       "      <td>750.0</td>\n",
       "      <td>NaN</td>\n",
       "      <td>TOR</td>\n",
       "      <td>Pullup Jump Shot</td>\n",
       "      <td>2</td>\n",
       "      <td>CLE</td>\n",
       "      <td>120.0</td>\n",
       "      <td>...</td>\n",
       "      <td>Kyrie Irving</td>\n",
       "      <td>NaN</td>\n",
       "      <td>1</td>\n",
       "      <td>SCORED</td>\n",
       "      <td>CLE</td>\n",
       "      <td>TOR_CLE</td>\n",
       "      <td>2.0</td>\n",
       "      <td>0.0</td>\n",
       "      <td>orta sahadan</td>\n",
       "      <td>189.225395</td>\n",
       "    </tr>\n",
       "    <tr>\n",
       "      <th>182</th>\n",
       "      <td>NaN</td>\n",
       "      <td>C</td>\n",
       "      <td>Yes</td>\n",
       "      <td>197.0</td>\n",
       "      <td>SCORED</td>\n",
       "      <td>TOR</td>\n",
       "      <td>Jump Shot</td>\n",
       "      <td>2</td>\n",
       "      <td>CLE</td>\n",
       "      <td>259.0</td>\n",
       "      <td>...</td>\n",
       "      <td>Jonas Valanciunas</td>\n",
       "      <td>NaN</td>\n",
       "      <td>1</td>\n",
       "      <td>MISSED</td>\n",
       "      <td>OPP</td>\n",
       "      <td>TOR_CLE</td>\n",
       "      <td>0.0</td>\n",
       "      <td>2.0</td>\n",
       "      <td>orta sahadan</td>\n",
       "      <td>144.780006</td>\n",
       "    </tr>\n",
       "    <tr>\n",
       "      <th>350</th>\n",
       "      <td>NaN</td>\n",
       "      <td>PF</td>\n",
       "      <td>No</td>\n",
       "      <td>882.0</td>\n",
       "      <td>NaN</td>\n",
       "      <td>CLE</td>\n",
       "      <td>Driving Layup</td>\n",
       "      <td>2</td>\n",
       "      <td>ORL</td>\n",
       "      <td>241.0</td>\n",
       "      <td>...</td>\n",
       "      <td>Serge Ibaka</td>\n",
       "      <td>NaN</td>\n",
       "      <td>1</td>\n",
       "      <td>SCORED</td>\n",
       "      <td>OPP</td>\n",
       "      <td>CLE_ORL</td>\n",
       "      <td>2.0</td>\n",
       "      <td>0.0</td>\n",
       "      <td>orta</td>\n",
       "      <td>10.547512</td>\n",
       "    </tr>\n",
       "    <tr>\n",
       "      <th>...</th>\n",
       "      <td>...</td>\n",
       "      <td>...</td>\n",
       "      <td>...</td>\n",
       "      <td>...</td>\n",
       "      <td>...</td>\n",
       "      <td>...</td>\n",
       "      <td>...</td>\n",
       "      <td>...</td>\n",
       "      <td>...</td>\n",
       "      <td>...</td>\n",
       "      <td>...</td>\n",
       "      <td>...</td>\n",
       "      <td>...</td>\n",
       "      <td>...</td>\n",
       "      <td>...</td>\n",
       "      <td>...</td>\n",
       "      <td>...</td>\n",
       "      <td>...</td>\n",
       "      <td>...</td>\n",
       "      <td>...</td>\n",
       "      <td>...</td>\n",
       "    </tr>\n",
       "    <tr>\n",
       "      <th>13014</th>\n",
       "      <td>NaN</td>\n",
       "      <td>PG</td>\n",
       "      <td>No</td>\n",
       "      <td>686.0</td>\n",
       "      <td>MISSED</td>\n",
       "      <td>ATL</td>\n",
       "      <td>Jump Shot</td>\n",
       "      <td>3</td>\n",
       "      <td>CLE</td>\n",
       "      <td>123.0</td>\n",
       "      <td>...</td>\n",
       "      <td>Kyrie Irving</td>\n",
       "      <td>NaN</td>\n",
       "      <td>1</td>\n",
       "      <td>SCORED</td>\n",
       "      <td>CLE</td>\n",
       "      <td>ATL_CLE</td>\n",
       "      <td>3.0</td>\n",
       "      <td>0.0</td>\n",
       "      <td>orta sahadan</td>\n",
       "      <td>238.183228</td>\n",
       "    </tr>\n",
       "    <tr>\n",
       "      <th>13205</th>\n",
       "      <td>NaN</td>\n",
       "      <td>PF</td>\n",
       "      <td>No</td>\n",
       "      <td>896.0</td>\n",
       "      <td>NaN</td>\n",
       "      <td>MIA</td>\n",
       "      <td>Fadeaway Jumper</td>\n",
       "      <td>2</td>\n",
       "      <td>CLE</td>\n",
       "      <td>368.0</td>\n",
       "      <td>...</td>\n",
       "      <td>Kevin Love</td>\n",
       "      <td>NaN</td>\n",
       "      <td>1</td>\n",
       "      <td>SCORED</td>\n",
       "      <td>CLE</td>\n",
       "      <td>MIA_CLE</td>\n",
       "      <td>2.0</td>\n",
       "      <td>0.0</td>\n",
       "      <td>orta sahadan</td>\n",
       "      <td>118.305748</td>\n",
       "    </tr>\n",
       "    <tr>\n",
       "      <th>13206</th>\n",
       "      <td>NaN</td>\n",
       "      <td>PF</td>\n",
       "      <td>Yes</td>\n",
       "      <td>62.0</td>\n",
       "      <td>SCORED</td>\n",
       "      <td>MIA</td>\n",
       "      <td>Jump Shot</td>\n",
       "      <td>2</td>\n",
       "      <td>CLE</td>\n",
       "      <td>177.0</td>\n",
       "      <td>...</td>\n",
       "      <td>James Johnson</td>\n",
       "      <td>NaN</td>\n",
       "      <td>1</td>\n",
       "      <td>MISSED</td>\n",
       "      <td>OPP</td>\n",
       "      <td>MIA_CLE</td>\n",
       "      <td>0.0</td>\n",
       "      <td>2.0</td>\n",
       "      <td>orta sahadan</td>\n",
       "      <td>73.615555</td>\n",
       "    </tr>\n",
       "    <tr>\n",
       "      <th>13389</th>\n",
       "      <td>NaN</td>\n",
       "      <td>SF</td>\n",
       "      <td>No</td>\n",
       "      <td>899.0</td>\n",
       "      <td>NaN</td>\n",
       "      <td>CLE</td>\n",
       "      <td>Cutting Layup Shot</td>\n",
       "      <td>2</td>\n",
       "      <td>TOR</td>\n",
       "      <td>241.0</td>\n",
       "      <td>...</td>\n",
       "      <td>DeMarre Carroll</td>\n",
       "      <td>NaN</td>\n",
       "      <td>1</td>\n",
       "      <td>SCORED</td>\n",
       "      <td>OPP</td>\n",
       "      <td>CLE_TOR</td>\n",
       "      <td>2.0</td>\n",
       "      <td>0.0</td>\n",
       "      <td>orta</td>\n",
       "      <td>14.603082</td>\n",
       "    </tr>\n",
       "    <tr>\n",
       "      <th>13390</th>\n",
       "      <td>NaN</td>\n",
       "      <td>PF</td>\n",
       "      <td>Yes</td>\n",
       "      <td>67.0</td>\n",
       "      <td>SCORED</td>\n",
       "      <td>CLE</td>\n",
       "      <td>Floating Jump Shot</td>\n",
       "      <td>2</td>\n",
       "      <td>TOR</td>\n",
       "      <td>177.0</td>\n",
       "      <td>...</td>\n",
       "      <td>Tristan Thompson</td>\n",
       "      <td>NaN</td>\n",
       "      <td>1</td>\n",
       "      <td>SCORED</td>\n",
       "      <td>CLE</td>\n",
       "      <td>CLE_TOR</td>\n",
       "      <td>2.0</td>\n",
       "      <td>-2.0</td>\n",
       "      <td>orta sahadan</td>\n",
       "      <td>74.426138</td>\n",
       "    </tr>\n",
       "  </tbody>\n",
       "</table>\n",
       "<p>156 rows × 22 columns</p>\n",
       "</div>"
      ],
      "text/plain": [
       "      self previous shot player position home game  location x  \\\n",
       "0                    NaN              PG        No       881.0   \n",
       "1                    NaN              PF       Yes        87.0   \n",
       "181                  NaN              PG        No       750.0   \n",
       "182                  NaN               C       Yes       197.0   \n",
       "350                  NaN              PF        No       882.0   \n",
       "...                  ...             ...       ...         ...   \n",
       "13014                NaN              PG        No       686.0   \n",
       "13205                NaN              PF        No       896.0   \n",
       "13206                NaN              PF       Yes        62.0   \n",
       "13389                NaN              SF        No       899.0   \n",
       "13390                NaN              PF       Yes        67.0   \n",
       "\n",
       "      opponent previous shot home team           shot type  points away team  \\\n",
       "0                        NaN       CLE       Driving Layup       2       NYK   \n",
       "1                     SCORED       CLE           Hook Shot       2       NYK   \n",
       "181                      NaN       TOR    Pullup Jump Shot       2       CLE   \n",
       "182                   SCORED       TOR           Jump Shot       2       CLE   \n",
       "350                      NaN       CLE       Driving Layup       2       ORL   \n",
       "...                      ...       ...                 ...     ...       ...   \n",
       "13014                 MISSED       ATL           Jump Shot       3       CLE   \n",
       "13205                    NaN       MIA     Fadeaway Jumper       2       CLE   \n",
       "13206                 SCORED       MIA           Jump Shot       2       CLE   \n",
       "13389                    NaN       CLE  Cutting Layup Shot       2       TOR   \n",
       "13390                 SCORED       CLE  Floating Jump Shot       2       TOR   \n",
       "\n",
       "       location y  ...       shoot player time from last shot quarter  \\\n",
       "0           246.0  ...       Derrick Rose                 NaN       1   \n",
       "1           239.0  ...         Kevin Love                 NaN       1   \n",
       "181         120.0  ...       Kyrie Irving                 NaN       1   \n",
       "182         259.0  ...  Jonas Valanciunas                 NaN       1   \n",
       "350         241.0  ...        Serge Ibaka                 NaN       1   \n",
       "...           ...  ...                ...                 ...     ...   \n",
       "13014       123.0  ...       Kyrie Irving                 NaN       1   \n",
       "13205       368.0  ...         Kevin Love                 NaN       1   \n",
       "13206       177.0  ...      James Johnson                 NaN       1   \n",
       "13389       241.0  ...    DeMarre Carroll                 NaN       1   \n",
       "13390       177.0  ...   Tristan Thompson                 NaN       1   \n",
       "\n",
       "       current shot outcome  My_Team HomeAway points_gained difference  \\\n",
       "0                    SCORED      OPP  CLE_NYK           2.0        0.0   \n",
       "1                    MISSED      CLE  CLE_NYK           0.0       -2.0   \n",
       "181                  SCORED      CLE  TOR_CLE           2.0        0.0   \n",
       "182                  MISSED      OPP  TOR_CLE           0.0        2.0   \n",
       "350                  SCORED      OPP  CLE_ORL           2.0        0.0   \n",
       "...                     ...      ...      ...           ...        ...   \n",
       "13014                SCORED      CLE  ATL_CLE           3.0        0.0   \n",
       "13205                SCORED      CLE  MIA_CLE           2.0        0.0   \n",
       "13206                MISSED      OPP  MIA_CLE           0.0        2.0   \n",
       "13389                SCORED      OPP  CLE_TOR           2.0        0.0   \n",
       "13390                SCORED      CLE  CLE_TOR           2.0       -2.0   \n",
       "\n",
       "           distance  distanceFloat  \n",
       "0             yakın       7.632169  \n",
       "1      orta sahadan      36.211186  \n",
       "181    orta sahadan     189.225395  \n",
       "182    orta sahadan     144.780006  \n",
       "350            orta      10.547512  \n",
       "...             ...            ...  \n",
       "13014  orta sahadan     238.183228  \n",
       "13205  orta sahadan     118.305748  \n",
       "13206  orta sahadan      73.615555  \n",
       "13389          orta      14.603082  \n",
       "13390  orta sahadan      74.426138  \n",
       "\n",
       "[156 rows x 22 columns]"
      ]
     },
     "execution_count": 27,
     "metadata": {},
     "output_type": "execute_result"
    }
   ],
   "source": [
    "lebron[pd.isnull(lebron[\"self previous shot\"])] #null değerler varsa bunları görmek için isnull fonk. kullanılır."
   ]
  },
  {
   "cell_type": "code",
   "execution_count": 28,
   "metadata": {
    "execution": {
     "iopub.execute_input": "2022-05-06T05:47:25.018010Z",
     "iopub.status.busy": "2022-05-06T05:47:25.017685Z",
     "iopub.status.idle": "2022-05-06T05:47:25.027968Z",
     "shell.execute_reply": "2022-05-06T05:47:25.027044Z",
     "shell.execute_reply.started": "2022-05-06T05:47:25.017974Z"
    }
   },
   "outputs": [
    {
     "data": {
      "text/plain": [
       "0        Unknown\n",
       "1        Unknown\n",
       "2         SCORED\n",
       "3         MISSED\n",
       "4         SCORED\n",
       "          ...   \n",
       "13546     MISSED\n",
       "13547     SCORED\n",
       "13548     MISSED\n",
       "13549     SCORED\n",
       "13550     MISSED\n",
       "Name: self previous shot, Length: 13551, dtype: object"
      ]
     },
     "execution_count": 28,
     "metadata": {},
     "output_type": "execute_result"
    }
   ],
   "source": [
    "lebron[\"self previous shot\"].fillna(\"Unknown\") #boş değerlerin yerini unknown ile doldurulur."
   ]
  },
  {
   "cell_type": "markdown",
   "metadata": {},
   "source": [
    "20) Bütün sütun isimlerini internette sözlük kullanarak türkçeye çevirin, çevirdiğinizi gösterin."
   ]
  },
  {
   "cell_type": "code",
   "execution_count": 29,
   "metadata": {
    "execution": {
     "iopub.execute_input": "2022-05-06T05:47:30.618683Z",
     "iopub.status.busy": "2022-05-06T05:47:30.617854Z",
     "iopub.status.idle": "2022-05-06T05:47:30.661286Z",
     "shell.execute_reply": "2022-05-06T05:47:30.660443Z",
     "shell.execute_reply.started": "2022-05-06T05:47:30.618645Z"
    }
   },
   "outputs": [
    {
     "name": "stdout",
     "output_type": "stream",
     "text": [
      "<class 'pandas.core.frame.DataFrame'>\n",
      "Int64Index: 13551 entries, 0 to 13550\n",
      "Data columns (total 22 columns):\n",
      " #   Column                            Non-Null Count  Dtype  \n",
      "---  ------                            --------------  -----  \n",
      " 0   kendinden önceki atış             13395 non-null  object \n",
      " 1   oyucu pozisyonu                   13551 non-null  object \n",
      " 2   ev oyunu                          13551 non-null  object \n",
      " 3   x lokasyonu                       13541 non-null  float64\n",
      " 4   rakip önceki atış                 13452 non-null  object \n",
      " 5   ev sahibi takım                   13551 non-null  object \n",
      " 6   şut tipi                          13551 non-null  object \n",
      " 7   puan                              13551 non-null  int64  \n",
      " 8   deplasman takımı                  13551 non-null  object \n",
      " 9   y lokasyonu                       13541 non-null  float64\n",
      " 10  zaman                             13551 non-null  object \n",
      " 11  tarih                             13551 non-null  object \n",
      " 12  şutu atan oyucu                   13551 non-null  object \n",
      " 13  son atıştan itibaren geçen zaman  12911 non-null  float64\n",
      " 14  çeyrek                            13551 non-null  int64  \n",
      " 15  şu anki atış sonucu               13551 non-null  object \n",
      " 16  benim takımım                     13551 non-null  object \n",
      " 17  evsahibi-deplasman                13551 non-null  object \n",
      " 18  puan sonucu                       13551 non-null  float64\n",
      " 19  fark                              13551 non-null  float64\n",
      " 20  distance                          13551 non-null  object \n",
      " 21  distanceFloat                     13541 non-null  float64\n",
      "dtypes: float64(6), int64(2), object(14)\n",
      "memory usage: 2.9+ MB\n"
     ]
    }
   ],
   "source": [
    "lebron_turkish = lebron\n",
    "lebron_turkish = lebron_turkish.rename(columns={'self previous shot': 'kendinden önceki atış', 'player position': 'oyucu pozisyonu'\n",
    "                                              ,'home game': 'ev oyunu', 'location x': 'x lokasyonu'\n",
    "                                              , 'opponent previous shot': 'rakip önceki atış'\n",
    "                                              , 'home team': 'ev sahibi takım', 'shot type': 'şut tipi', 'points': 'puan'\n",
    "                                              , 'away team': 'deplasman takımı', 'location y': 'y lokasyonu', 'time': 'zaman'\n",
    "                                              , 'date': 'tarih', 'shoot player': 'şutu atan oyucu'\n",
    "                                              , 'time from last shot': 'son atıştan itibaren geçen zaman'\n",
    "                                              , 'quarter': 'çeyrek', 'current shot outcome': 'şu anki atış sonucu'\n",
    "                                              , 'My_Team': 'benim takımım', 'HomeAway': 'evsahibi-deplasman'\n",
    "                                              , 'points_gained': 'puan sonucu', 'difference': 'fark'\n",
    "                                             })\n",
    "lebron_turkish.info()\n"
   ]
  },
  {
   "cell_type": "markdown",
   "metadata": {},
   "source": [
    "21) Elimizde ekstra maçlar olduğunu varsayalım. Hangi durumlarda concat, hangi durumlarda join kullanmamız gerektiğini düzgün bir şekilde açıklayın."
   ]
  },
  {
   "cell_type": "markdown",
   "metadata": {},
   "source": [
    "En basit birleştirme yöntemi concat() yöntemidir. Bir öğe listesi verildiğinde, bu işlev bu öğeleri bir eksen boyunca sıkıştıracaktır.Bu, farklı DataFrame veya Series nesnelerinde verilerimiz olduğunda ancak aynı alanlara (sütunlara) sahip olduğumuzda kullanışlıdır.örnek: verileri menşe ülkeye göre bölen YouTube Videoları veri kümesi (ör. bu örnekte Kanada ve Birleşik Krallık). Aynı anda birden fazla ülkeyi incelemek istiyorsak, onları bir araya getirmek için concat() işlevini kullanabiliriz.\n",
    "\n",
    "Karmaşıklık açısından en ortadaki birleştirici, join()'dir. join(), ortak bir dizine sahip farklı DataFrame nesnelerini birleştirmenize izin verir.Örneğin, hem Kanada'da hem de Birleşik Krallık'ta aynı gün trend olan videoları aşağı çekmek için join kullanabiliriz."
   ]
  },
  {
   "cell_type": "markdown",
   "metadata": {},
   "source": [
    "22) validation verilerimizi kullanarak, şutun girip girmediğini (scored, missed, blocked) tahmin edeceğimizi varsayarak (current shot outcome), data visualization dersinde öğrendiğimiz bilgileri kullanın.\n",
    "(Regression plot, lmplot, barplot ve diğerleri gibi). Hangi özellikler hedef değişkenle ilintili görünüyor, yorumlayın. \n",
    "(Burada yoğun çaba harcayıp, gözden hiçbir şeyi kaçırmadığınıza emin olun.)\n"
   ]
  },
  {
   "cell_type": "code",
   "execution_count": 30,
   "metadata": {
    "execution": {
     "iopub.execute_input": "2022-05-06T05:48:32.633193Z",
     "iopub.status.busy": "2022-05-06T05:48:32.632924Z",
     "iopub.status.idle": "2022-05-06T05:48:32.783487Z",
     "shell.execute_reply": "2022-05-06T05:48:32.782502Z",
     "shell.execute_reply.started": "2022-05-06T05:48:32.633164Z"
    }
   },
   "outputs": [],
   "source": [
    "#integer olmayan değerler sayısal değerlere çevrilir.\n",
    "from sklearn.preprocessing import LabelEncoder\n",
    "labelencoder = LabelEncoder()\n",
    "\n",
    "lebron['current shot outcome copy'] = labelencoder.fit_transform(lebron['current shot outcome'])\n",
    "lebron['shot type copy'] = labelencoder.fit_transform(lebron['shot type'])\n",
    "lebron['shoot player copy'] = labelencoder.fit_transform(lebron['shoot player'])"
   ]
  },
  {
   "cell_type": "code",
   "execution_count": 31,
   "metadata": {
    "execution": {
     "iopub.execute_input": "2022-05-06T05:49:22.928598Z",
     "iopub.status.busy": "2022-05-06T05:49:22.928292Z",
     "iopub.status.idle": "2022-05-06T05:49:23.018645Z",
     "shell.execute_reply": "2022-05-06T05:49:23.017708Z",
     "shell.execute_reply.started": "2022-05-06T05:49:22.928572Z"
    }
   },
   "outputs": [],
   "source": [
    "# verileri train ve validation olmak üzere ikiye ayırıyoruz.\n",
    "from sklearn.model_selection import *\n",
    "\n",
    "filtered_lebron_data = lebron.dropna(axis=0)\n",
    "y = filtered_lebron_data['current shot outcome copy']\n",
    "feature_columns =['location x','shot type copy','shoot player copy','distanceFloat']\n",
    "X = filtered_lebron_data[feature_columns]\n",
    "\n",
    "train_X, val_X, train_y, val_y = train_test_split(X, y, random_state = 1)"
   ]
  },
  {
   "cell_type": "code",
   "execution_count": 32,
   "metadata": {
    "execution": {
     "iopub.execute_input": "2022-05-06T05:56:44.527731Z",
     "iopub.status.busy": "2022-05-06T05:56:44.527328Z",
     "iopub.status.idle": "2022-05-06T05:56:46.597038Z",
     "shell.execute_reply": "2022-05-06T05:56:46.596363Z",
     "shell.execute_reply.started": "2022-05-06T05:56:44.527700Z"
    }
   },
   "outputs": [
    {
     "data": {
      "text/plain": [
       "<AxesSubplot:title={'center':'current shot outcome'}, xlabel='shot type copy', ylabel='current shot outcome copy'>"
      ]
     },
     "execution_count": 32,
     "metadata": {},
     "output_type": "execute_result"
    },
    {
     "data": {
      "image/png": "[encoded data removed]",
      "text/plain": [
       "<Figure size 720x360 with 1 Axes>"
      ]
     },
     "metadata": {
      "needs_background": "light"
     },
     "output_type": "display_data"
    }
   ],
   "source": [
    "plt.figure(figsize=(10,5))\n",
    "plt.title(\"current shot outcome\")\n",
    "\n",
    "sns.barplot(x=val_X[\"shot type copy\"], y=val_y)"
   ]
  },
  {
   "cell_type": "code",
   "execution_count": 33,
   "metadata": {
    "execution": {
     "iopub.execute_input": "2022-05-06T05:59:04.617089Z",
     "iopub.status.busy": "2022-05-06T05:59:04.616813Z",
     "iopub.status.idle": "2022-05-06T05:59:04.867071Z",
     "shell.execute_reply": "2022-05-06T05:59:04.866167Z",
     "shell.execute_reply.started": "2022-05-06T05:59:04.617059Z"
    }
   },
   "outputs": [
    {
     "data": {
      "text/plain": [
       "<AxesSubplot:xlabel='shot type copy', ylabel='current shot outcome copy'>"
      ]
     },
     "execution_count": 33,
     "metadata": {},
     "output_type": "execute_result"
    },
    {
     "data": {
      "image/png": "[encoded data removed]",
      "text/plain": [
       "<Figure size 720x360 with 1 Axes>"
      ]
     },
     "metadata": {
      "needs_background": "light"
     },
     "output_type": "display_data"
    }
   ],
   "source": [
    "plt.figure(figsize=(10,5))\n",
    "sns.scatterplot(x=val_X['shot type copy'], y=val_y)"
   ]
  },
  {
   "cell_type": "code",
   "execution_count": 34,
   "metadata": {
    "execution": {
     "iopub.execute_input": "2022-05-06T05:58:34.735491Z",
     "iopub.status.busy": "2022-05-06T05:58:34.735221Z",
     "iopub.status.idle": "2022-05-06T05:58:34.966715Z",
     "shell.execute_reply": "2022-05-06T05:58:34.965746Z",
     "shell.execute_reply.started": "2022-05-06T05:58:34.735463Z"
    }
   },
   "outputs": [
    {
     "data": {
      "text/plain": [
       "<AxesSubplot:xlabel='shot type copy', ylabel='Density'>"
      ]
     },
     "execution_count": 34,
     "metadata": {},
     "output_type": "execute_result"
    },
    {
     "data": {
      "image/png": "[encoded data removed]",
      "text/plain": [
       "<Figure size 432x288 with 1 Axes>"
      ]
     },
     "metadata": {
      "needs_background": "light"
     },
     "output_type": "display_data"
    }
   ],
   "source": [
    "sns.kdeplot(data=val_X['shot type copy'], shade=True)"
   ]
  },
  {
   "cell_type": "code",
   "execution_count": 35,
   "metadata": {
    "execution": {
     "iopub.execute_input": "2022-05-06T05:59:53.502994Z",
     "iopub.status.busy": "2022-05-06T05:59:53.502716Z",
     "iopub.status.idle": "2022-05-06T05:59:54.731619Z",
     "shell.execute_reply": "2022-05-06T05:59:54.730720Z",
     "shell.execute_reply.started": "2022-05-06T05:59:53.502965Z"
    }
   },
   "outputs": [
    {
     "data": {
      "text/plain": [
       "<seaborn.axisgrid.FacetGrid at 0x275a11b3280>"
      ]
     },
     "execution_count": 35,
     "metadata": {},
     "output_type": "execute_result"
    },
    {
     "data": {
      "image/png": "[encoded data removed]",
      "text/plain": [
       "<Figure size 360x360 with 1 Axes>"
      ]
     },
     "metadata": {
      "needs_background": "light"
     },
     "output_type": "display_data"
    }
   ],
   "source": [
    "sns.lmplot(x ='shot type copy', y ='current shot outcome copy', data=lebron)"
   ]
  },
  {
   "cell_type": "code",
   "execution_count": 36,
   "metadata": {
    "execution": {
     "iopub.execute_input": "2022-05-06T06:00:41.726765Z",
     "iopub.status.busy": "2022-05-06T06:00:41.726237Z",
     "iopub.status.idle": "2022-05-06T06:00:42.850888Z",
     "shell.execute_reply": "2022-05-06T06:00:42.849859Z",
     "shell.execute_reply.started": "2022-05-06T06:00:41.726733Z"
    }
   },
   "outputs": [
    {
     "data": {
      "text/plain": [
       "<AxesSubplot:xlabel='shot type copy', ylabel='current shot outcome copy'>"
      ]
     },
     "execution_count": 36,
     "metadata": {},
     "output_type": "execute_result"
    },
    {
     "data": {
      "image/png": "[encoded data removed]",
      "text/plain": [
       "<Figure size 432x288 with 1 Axes>"
      ]
     },
     "metadata": {
      "needs_background": "light"
     },
     "output_type": "display_data"
    }
   ],
   "source": [
    "sns.regplot(x ='shot type copy', y ='current shot outcome copy', data=lebron)"
   ]
  },
  {
   "cell_type": "markdown",
   "metadata": {},
   "source": [
    "23) Datamızı derste ayırdığımız gibi, train validasyon olarak ikiye ayıralım. İlintili feature seçimlerimizi de yapalım. "
   ]
  },
  {
   "cell_type": "code",
   "execution_count": 37,
   "metadata": {
    "execution": {
     "iopub.execute_input": "2022-05-06T06:01:33.800391Z",
     "iopub.status.busy": "2022-05-06T06:01:33.799847Z",
     "iopub.status.idle": "2022-05-06T06:01:33.837519Z",
     "shell.execute_reply": "2022-05-06T06:01:33.836514Z",
     "shell.execute_reply.started": "2022-05-06T06:01:33.800344Z"
    }
   },
   "outputs": [],
   "source": [
    "from sklearn.model_selection import *\n",
    "\n",
    "filtered_lebron_data = lebron.dropna(axis=0)\n",
    "y = filtered_lebron_data['current shot outcome copy']\n",
    "feature_columns =['location x','shot type copy','shoot player copy','distanceFloat']\n",
    "\n",
    "X = filtered_lebron_data[feature_columns]\n",
    "\n",
    "train_X, val_X, train_y, val_y = train_test_split(X, y, random_state = 1)"
   ]
  },
  {
   "cell_type": "markdown",
   "metadata": {},
   "source": [
    "24) DecisionTree ile sonuçlar elde edin ve Mean absolute value'nüzü bulun."
   ]
  },
  {
   "cell_type": "code",
   "execution_count": 38,
   "metadata": {
    "execution": {
     "iopub.execute_input": "2022-05-06T06:01:59.058424Z",
     "iopub.status.busy": "2022-05-06T06:01:59.058123Z",
     "iopub.status.idle": "2022-05-06T06:01:59.256880Z",
     "shell.execute_reply": "2022-05-06T06:01:59.255957Z",
     "shell.execute_reply.started": "2022-05-06T06:01:59.058389Z"
    }
   },
   "outputs": [
    {
     "name": "stdout",
     "output_type": "stream",
     "text": [
      "0.5225293305728088\n"
     ]
    }
   ],
   "source": [
    "from sklearn.tree import DecisionTreeRegressor\n",
    "from sklearn.metrics import mean_absolute_error\n",
    "\n",
    "lebron_model = DecisionTreeRegressor(random_state=1)\n",
    "# Fit model\n",
    "lebron_model.fit(train_X, train_y)\n",
    "\n",
    "# get predicted prices on validation data\n",
    "val_predictions = lebron_model.predict(val_X)\n",
    "print(mean_absolute_error(val_y, val_predictions))"
   ]
  },
  {
   "cell_type": "markdown",
   "metadata": {},
   "source": [
    "25) DecisionTree'nizde maksimum yaprak nodlarını(maximum_leaf_nodes) tanımlayarak, modelinizin en iyi sonuç verdiği max_leaf_nodes'i seçin. Sonrasında ona göre bir mean absolute error value'sünü bulun. Bunu neden yaptığımızı detaylı bir şekilde açıklayın."
   ]
  },
  {
   "cell_type": "code",
   "execution_count": 39,
   "metadata": {
    "execution": {
     "iopub.execute_input": "2022-05-06T06:02:34.719648Z",
     "iopub.status.busy": "2022-05-06T06:02:34.719193Z",
     "iopub.status.idle": "2022-05-06T06:02:34.869712Z",
     "shell.execute_reply": "2022-05-06T06:02:34.868651Z",
     "shell.execute_reply.started": "2022-05-06T06:02:34.719610Z"
    }
   },
   "outputs": [
    {
     "name": "stdout",
     "output_type": "stream",
     "text": [
      "Max leaf nodes: 5  \t\t Mean Absolute Error:  0.505182\n",
      "Max leaf nodes: 25  \t\t Mean Absolute Error:  0.488042\n",
      "Max leaf nodes: 50  \t\t Mean Absolute Error:  0.487995\n",
      "Max leaf nodes: 100  \t\t Mean Absolute Error:  0.487449\n",
      "Max leaf nodes: 200  \t\t Mean Absolute Error:  0.491010\n",
      "Max leaf nodes: 500  \t\t Mean Absolute Error:  0.502773\n",
      "best tree size =  100\n"
     ]
    }
   ],
   "source": [
    "def get_mae(max_leaf_nodes, train_X, val_X, train_y, val_y):\n",
    "    model = DecisionTreeRegressor(max_leaf_nodes=max_leaf_nodes, random_state=1)\n",
    "    model.fit(train_X, train_y)\n",
    "    preds_val = model.predict(val_X)\n",
    "    mae = mean_absolute_error(val_y, preds_val)\n",
    "    return(mae)\n",
    "\n",
    "liste1=[]\n",
    "liste2=[]\n",
    "for max_leaf_nodes in [5, 25, 50,100, 200, 500]:\n",
    "    my_mae = get_mae(max_leaf_nodes, train_X, val_X, train_y, val_y)\n",
    "    print(\"Max leaf nodes: %d  \\t\\t Mean Absolute Error:  %f\" %(max_leaf_nodes, my_mae))\n",
    "    liste1.append(max_leaf_nodes)\n",
    "    liste2.append(my_mae)\n",
    "     \n",
    "best_tree_size = pd.Series(liste2, index=liste1)\n",
    "\n",
    "print(\"best tree size = \",best_tree_size.idxmin())"
   ]
  },
  {
   "cell_type": "markdown",
   "metadata": {},
   "source": [
    "26) Random Forest'ta max_leaf_nodes kullanılır mı? Bu soruyu cevaplarken koddan yardım alıp göstermeyi unutmayın."
   ]
  },
  {
   "cell_type": "markdown",
   "metadata": {},
   "source": [
    "Random forest modelinde max_leaf_nodes kullanılır ve bu parametre ağacı en iyi şekilde büyütür ve bu da impurity(saflığı,düzeni bozan) nispi bir azalmaya neden olur.\n",
    "\n",
    "\n",
    "from sklearn.ensemble import RandomForestClassifier\n",
    "\n",
    "#Create a Gaussian Classifier\n",
    "clf=RandomForestClassifier(n_estimators=100)\n",
    "\n",
    "#Train the model using the training sets y_pred=clf.predict(X_test)\n",
    "clf.fit(X_train,y_train)\n",
    "\n",
    "RandomForestClassifier(bootstrap=True, class_weight=None, criterion='gini',\n",
    "            max_depth=None, max_features='auto', max_leaf_nodes=None,\n",
    "            min_impurity_decrease=0.0, min_impurity_split=None,\n",
    "            min_samples_leaf=1, min_samples_split=2,\n",
    "            min_weight_fraction_leaf=0.0, n_estimators=100, n_jobs=1,\n",
    "            oob_score=False, random_state=None, verbose=0,\n",
    "            warm_start=False)\n",
    "            \n",
    "import pandas as pd\n",
    "feature_imp = pd.Series(clf.feature_importances_,index=iris.feature_names).sort_values(ascending=False)\n",
    "feature_imp"
   ]
  },
  {
   "cell_type": "markdown",
   "metadata": {},
   "source": [
    "27) 24. Ve 25. Soruda yaptığımız işlemin aynısını random Forest modeli için de yapın."
   ]
  },
  {
   "cell_type": "code",
   "execution_count": 40,
   "metadata": {
    "execution": {
     "iopub.execute_input": "2022-05-06T06:04:04.071176Z",
     "iopub.status.busy": "2022-05-06T06:04:04.070845Z",
     "iopub.status.idle": "2022-05-06T06:04:06.943491Z",
     "shell.execute_reply": "2022-05-06T06:04:06.942545Z",
     "shell.execute_reply.started": "2022-05-06T06:04:04.071143Z"
    }
   },
   "outputs": [
    {
     "name": "stdout",
     "output_type": "stream",
     "text": [
      "0.4852369569990254\n"
     ]
    }
   ],
   "source": [
    "from sklearn.model_selection import *\n",
    "from sklearn.ensemble import RandomForestRegressor\n",
    "from sklearn.metrics import mean_absolute_error\n",
    "\n",
    "filtered_lebron_data = lebron.dropna(axis=0)\n",
    "y = filtered_lebron_data['current shot outcome copy']\n",
    "feature_columns =['location x','shot type copy','shoot player copy','distanceFloat']\n",
    "X = filtered_lebron_data[feature_columns]\n",
    "\n",
    "train_X, val_X, train_y, val_y = train_test_split(X, y, random_state = 1)\n",
    "\n",
    "\n",
    "lebron_forest_model = RandomForestRegressor(random_state=1)\n",
    "lebron_forest_model.fit(train_X, train_y)\n",
    "melb_preds = lebron_forest_model.predict(val_X)\n",
    "print(mean_absolute_error(val_y, melb_preds))\n"
   ]
  },
  {
   "cell_type": "code",
   "execution_count": 41,
   "metadata": {
    "execution": {
     "iopub.execute_input": "2022-05-06T06:04:47.216634Z",
     "iopub.status.busy": "2022-05-06T06:04:47.216331Z",
     "iopub.status.idle": "2022-05-06T06:04:55.963617Z",
     "shell.execute_reply": "2022-05-06T06:04:55.962826Z",
     "shell.execute_reply.started": "2022-05-06T06:04:47.216592Z"
    }
   },
   "outputs": [
    {
     "name": "stdout",
     "output_type": "stream",
     "text": [
      "Max leaf nodes: 5  \t\t Mean Absolute Error:  0.503190\n",
      "Max leaf nodes: 25  \t\t Mean Absolute Error:  0.486337\n",
      "Max leaf nodes: 50  \t\t Mean Absolute Error:  0.484844\n",
      "Max leaf nodes: 100  \t\t Mean Absolute Error:  0.483618\n",
      "Max leaf nodes: 200  \t\t Mean Absolute Error:  0.482821\n",
      "Max leaf nodes: 500  \t\t Mean Absolute Error:  0.482700\n",
      "best tree size =  500\n"
     ]
    }
   ],
   "source": [
    "def get_mae(max_leaf_nodes, train_X, val_X, train_y, val_y):\n",
    "    model = RandomForestRegressor(max_leaf_nodes=max_leaf_nodes, random_state=1)\n",
    "    model.fit(train_X, train_y)\n",
    "    preds_val = model.predict(val_X)\n",
    "    mae = mean_absolute_error(val_y, preds_val)\n",
    "    return(mae)\n",
    "\n",
    "liste1=[]\n",
    "liste2=[]\n",
    "for max_leaf_nodes in [5, 25, 50,100, 200, 500]:\n",
    "    my_mae = get_mae(max_leaf_nodes, train_X, val_X, train_y, val_y)\n",
    "    print(\"Max leaf nodes: %d  \\t\\t Mean Absolute Error:  %f\" %(max_leaf_nodes, my_mae))\n",
    "    liste1.append(max_leaf_nodes)\n",
    "    liste2.append(my_mae)\n",
    "     \n",
    "best_tree_size = pd.Series(liste2, index=liste1)\n",
    "\n",
    "print(\"best tree size = \",best_tree_size.idxmin())\n"
   ]
  },
  {
   "cell_type": "markdown",
   "metadata": {},
   "source": [
    "28) Random forest ve decision tree'nin avantajlarını ve dezavantajlarını yorumlayınız."
   ]
  },
  {
   "cell_type": "markdown",
   "metadata": {},
   "source": [
    "Decision Treelerin anlaşılması kolaydır ve veri bilimindeki en iyi modellerden bazıları için temel yapı taşıdır.\n",
    "Decision Treeler sizi zor bir kararla baş başa bırakır. Bol yapraklı derin bir ağaç fazla sığar çünkü her tahmin, yaprağındaki sadece birkaç evden gelen tarihsel verilerden gelir.Ancak, az yapraklı sığ bir ağaç, ham verilerde çok fazla ayrım yakalayamadığı için kötü performans gösterecektir.\n",
    "Günümüzün en karmaşık modelleme teknikleri bile eksik ve fazla takma arasındaki bu gerilimle karşı karşıyadır. Ancak birçok modelde daha iyi performansa yol açabilecek random forest gibi akıllı fikirler vardır. \n",
    "Random Forest birçok ağaç kullanır ve her bir bileşen ağacının tahminlerinin ortalamasını alarak bir tahmin yapar. Genellikle tek bir karar ağacından çok daha iyi tahmin doğruluğuna sahiptir ve varsayılan parametrelerle iyi çalışır.\n",
    "\n",
    "\n",
    "Random forest vs Decision Tree\n",
    "-Rastgele ormanlar, birden fazla karar ağacı kümesidir.\n",
    "-Derin karar ağaçları fazla uyumdan zarar görebilir, ancak rastgele ormanlar, rastgele alt kümelerde ağaçlar oluşturarak fazla sığdırmayı önler.\n",
    "-Karar ağaçları hesaplama açısından daha hızlıdır.\n",
    "-Rastgele ormanların yorumlanması zordur, oysa bir karar ağacı kolayca yorumlanabilir ve kurallara dönüştürülebilir.\n",
    "\n"
   ]
  }
 ],
 "metadata": {
  "kernelspec": {
   "display_name": "Python 3",
   "language": "python",
   "name": "python3"
  },
  "language_info": {
   "codemirror_mode": {
    "name": "ipython",
    "version": 3
   },
   "file_extension": ".py",
   "mimetype": "text/x-python",
   "name": "python",
   "nbconvert_exporter": "python",
   "pygments_lexer": "ipython3",
   "version": "3.8.8"
  }
 },
 "nbformat": 4,
 "nbformat_minor": 4
}
